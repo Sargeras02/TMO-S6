{
 "cells": [
  {
   "cell_type": "markdown",
   "metadata": {},
   "source": [
    "# Шаг 1: Подготовка"
   ]
  },
  {
   "cell_type": "code",
   "execution_count": 1,
   "metadata": {},
   "outputs": [],
   "source": [
    "import pandas as pd\n",
    "from sklearn.model_selection import train_test_split, GridSearchCV, RandomizedSearchCV, cross_val_score, KFold, StratifiedKFold\n",
    "from sklearn.neighbors import KNeighborsClassifier\n",
    "from sklearn.metrics import accuracy_score, classification_report, confusion_matrix"
   ]
  },
  {
   "cell_type": "code",
   "execution_count": 4,
   "metadata": {},
   "outputs": [],
   "source": [
    "# Загрузка данных\n",
    "data = pd.read_csv('data.csv')\n",
    "\n",
    "# Последняя колонка - это целевая переменная\n",
    "X = data.iloc[:, :-1]\n",
    "y = data.iloc[:, -1]"
   ]
  },
  {
   "cell_type": "code",
   "execution_count": 5,
   "metadata": {},
   "outputs": [
    {
     "data": {
      "text/plain": [
       "(35218, 156)"
      ]
     },
     "execution_count": 5,
     "metadata": {},
     "output_type": "execute_result"
    }
   ],
   "source": [
    "data.shape"
   ]
  },
  {
   "cell_type": "code",
   "execution_count": 6,
   "metadata": {},
   "outputs": [],
   "source": [
    "# Разделение на обучающую и тестовую выборки\n",
    "X_train, X_test, y_train, y_test = train_test_split(X, y, test_size=0.2, random_state=42)"
   ]
  },
  {
   "cell_type": "markdown",
   "metadata": {},
   "source": [
    "# Шаг 2: Обучение модели ближайших соседей для K=5"
   ]
  },
  {
   "cell_type": "code",
   "execution_count": 10,
   "metadata": {},
   "outputs": [
    {
     "name": "stdout",
     "output_type": "stream",
     "text": [
      "Точность: 0.9645088018171494\n",
      "Отчёт Классификации:\n",
      "               precision    recall  f1-score   support\n",
      "\n",
      "         0.0       0.96      0.97      0.96      3540\n",
      "         1.0       0.97      0.96      0.96      3504\n",
      "\n",
      "    accuracy                           0.96      7044\n",
      "   macro avg       0.96      0.96      0.96      7044\n",
      "weighted avg       0.96      0.96      0.96      7044\n",
      "\n",
      "Матрица Ошибок:\n",
      " [[3445   95]\n",
      " [ 155 3349]]\n"
     ]
    }
   ],
   "source": [
    "knn = KNeighborsClassifier(n_neighbors=5)\n",
    "knn.fit(X_train, y_train)\n",
    "y_pred = knn.predict(X_test)\n",
    "\n",
    "# Оценка качества модели\n",
    "print(\"Точность:\", accuracy_score(y_test, y_pred))\n",
    "print(\"Отчёт Классификации:\\n\", classification_report(y_test, y_pred))\n",
    "print(\"Матрица Ошибок:\\n\", confusion_matrix(y_test, y_pred))"
   ]
  },
  {
   "cell_type": "markdown",
   "metadata": {},
   "source": [
    "Точность: 96.45%"
   ]
  },
  {
   "cell_type": "markdown",
   "metadata": {},
   "source": [
    "# Шаг 3: Подбор гиперпараметра K с использованием GridSearchCV и RandomizedSearchCV"
   ]
  },
  {
   "cell_type": "code",
   "execution_count": 8,
   "metadata": {},
   "outputs": [
    {
     "name": "stdout",
     "output_type": "stream",
     "text": [
      "Best parameters (GridSearchCV): {'n_neighbors': 1}\n",
      "Best score (GridSearchCV): 0.9658905006647748\n",
      "Best parameters (RandomizedSearchCV): {'n_neighbors': 1}\n",
      "Best score (RandomizedSearchCV): 0.9658905006647748\n"
     ]
    }
   ],
   "source": [
    "param_grid = {'n_neighbors': range(1, 31)}\n",
    "\n",
    "# GridSearchCV\n",
    "grid_search = GridSearchCV(KNeighborsClassifier(), param_grid, cv=5)\n",
    "grid_search.fit(X_train, y_train)\n",
    "print(\"Best parameters (GridSearchCV):\", grid_search.best_params_)\n",
    "print(\"Best score (GridSearchCV):\", grid_search.best_score_)\n",
    "\n",
    "# RandomizedSearchCV\n",
    "random_search = RandomizedSearchCV(KNeighborsClassifier(), param_grid, cv=5, n_iter=10, random_state=42)\n",
    "random_search.fit(X_train, y_train)\n",
    "print(\"Best parameters (RandomizedSearchCV):\", random_search.best_params_)\n",
    "print(\"Best score (RandomizedSearchCV):\", random_search.best_score_)"
   ]
  },
  {
   "cell_type": "markdown",
   "metadata": {},
   "source": [
    "# Шаг 4: Сравнение метрик качества исходной и оптимальной моделей"
   ]
  },
  {
   "cell_type": "code",
   "execution_count": 9,
   "metadata": {},
   "outputs": [
    {
     "name": "stdout",
     "output_type": "stream",
     "text": [
      "Optimal KNN Accuracy: 0.9697614991482112\n",
      "Optimal KNN Classification Report:\n",
      "               precision    recall  f1-score   support\n",
      "\n",
      "         0.0       0.97      0.97      0.97      3540\n",
      "         1.0       0.97      0.97      0.97      3504\n",
      "\n",
      "    accuracy                           0.97      7044\n",
      "   macro avg       0.97      0.97      0.97      7044\n",
      "weighted avg       0.97      0.97      0.97      7044\n",
      "\n",
      "Optimal KNN Confusion Matrix:\n",
      " [[3440  100]\n",
      " [ 113 3391]]\n",
      "Cross-validation results (KFold): [0.9697615  0.96876775 0.96805792 0.96776942 0.96663354]\n",
      "Mean CV accuracy (KFold): 0.9681980239339378\n",
      "Cross-validation results (StratifiedKFold): [0.96749006 0.96876775 0.96550256 0.96776942 0.96677552]\n",
      "Mean CV accuracy (StratifiedKFold): 0.9672610603332832\n"
     ]
    }
   ],
   "source": [
    "optimal_knn = grid_search.best_estimator_\n",
    "optimal_knn.fit(X_train, y_train)\n",
    "y_pred_optimal = optimal_knn.predict(X_test)\n",
    "\n",
    "print(\"Optimal KNN Accuracy:\", accuracy_score(y_test, y_pred_optimal))\n",
    "print(\"Optimal KNN Classification Report:\\n\", classification_report(y_test, y_pred_optimal))\n",
    "print(\"Optimal KNN Confusion Matrix:\\n\", confusion_matrix(y_test, y_pred_optimal))\n",
    "\n",
    "# Кросс-валидация с двумя стратегиями\n",
    "kfold = KFold(n_splits=5, shuffle=True, random_state=42)\n",
    "stratified_kfold = StratifiedKFold(n_splits=5, shuffle=True, random_state=42)\n",
    "\n",
    "cv_results_kfold = cross_val_score(optimal_knn, X, y, cv=kfold)\n",
    "cv_results_stratified_kfold = cross_val_score(optimal_knn, X, y, cv=stratified_kfold)\n",
    "\n",
    "print(\"Cross-validation results (KFold):\", cv_results_kfold)\n",
    "print(\"Mean CV accuracy (KFold):\", cv_results_kfold.mean())\n",
    "\n",
    "print(\"Cross-validation results (StratifiedKFold):\", cv_results_stratified_kfold)\n",
    "print(\"Mean CV accuracy (StratifiedKFold):\", cv_results_stratified_kfold.mean())"
   ]
  },
  {
   "cell_type": "markdown",
   "metadata": {},
   "source": []
  }
 ],
 "metadata": {
  "kernelspec": {
   "display_name": "Python 3",
   "language": "python",
   "name": "python3"
  },
  "language_info": {
   "codemirror_mode": {
    "name": "ipython",
    "version": 3
   },
   "file_extension": ".py",
   "mimetype": "text/x-python",
   "name": "python",
   "nbconvert_exporter": "python",
   "pygments_lexer": "ipython3",
   "version": "3.12.1"
  }
 },
 "nbformat": 4,
 "nbformat_minor": 2
}
