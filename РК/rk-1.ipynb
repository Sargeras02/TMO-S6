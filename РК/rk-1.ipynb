{
 "cells": [
  {
   "cell_type": "markdown",
   "metadata": {},
   "source": [
    "# Костин Сергей, ИУ5-65Б\n",
    "## Рубежный Контроль №1, В9"
   ]
  },
  {
   "cell_type": "markdown",
   "metadata": {},
   "source": [
    "Задача №2.\n",
    "\n",
    "Для заданного набора данных проведите обработку пропусков в данных для одного категориального и одного количественного признака. Какие способы обработки пропусков в данных для категориальных и количественных признаков Вы использовали? Какие признаки Вы будете использовать для дальнейшего построения моделей машинного обучения и почему?"
   ]
  },
  {
   "cell_type": "markdown",
   "metadata": {},
   "source": [
    "# Импорты и либы"
   ]
  },
  {
   "cell_type": "code",
   "execution_count": 91,
   "metadata": {},
   "outputs": [],
   "source": [
    "import pandas as pd\n",
    "import numpy as np\n",
    "from sklearn.datasets import load_iris\n",
    "from sklearn.preprocessing import MinMaxScaler, LabelEncoder\n",
    "from sklearn.impute import SimpleImputer\n",
    "from sklearn.impute import MissingIndicator"
   ]
  },
  {
   "cell_type": "markdown",
   "metadata": {},
   "source": [
    "# Функции"
   ]
  },
  {
   "cell_type": "code",
   "execution_count": 92,
   "metadata": {},
   "outputs": [],
   "source": [
    "def descr(df):\n",
    "    print(\"Размер датасета:\", df.shape)\n",
    "    print(\"Столбцы и типы данных:\\n\", df.dtypes)\n",
    "    print(\"Количество пропусков:\\n\", df.isnull().sum())"
   ]
  },
  {
   "cell_type": "code",
   "execution_count": 93,
   "metadata": {},
   "outputs": [],
   "source": [
    "def normal_total(mean, std, total):\n",
    "    percentage = np.random.normal(mean, std)\n",
    "    percentage = np.clip(percentage, 0, 100)\n",
    "    missing_count = int(total * (percentage / 100))\n",
    "    return missing_count"
   ]
  },
  {
   "cell_type": "markdown",
   "metadata": {},
   "source": [
    "# Код"
   ]
  },
  {
   "cell_type": "markdown",
   "metadata": {},
   "source": [
    "## Загрузка/Подготовка данных"
   ]
  },
  {
   "cell_type": "code",
   "execution_count": 94,
   "metadata": {},
   "outputs": [],
   "source": [
    "iris = load_iris(as_frame=True)\n",
    "df = iris.frame"
   ]
  },
  {
   "cell_type": "code",
   "execution_count": 95,
   "metadata": {},
   "outputs": [
    {
     "name": "stdout",
     "output_type": "stream",
     "text": [
      "Размер датасета: (150, 5)\n",
      "Столбцы и типы данных:\n",
      " sepal length (cm)    float64\n",
      "sepal width (cm)     float64\n",
      "petal length (cm)    float64\n",
      "petal width (cm)     float64\n",
      "target                 int32\n",
      "dtype: object\n",
      "Количество пропусков:\n",
      " sepal length (cm)    0\n",
      "sepal width (cm)     0\n",
      "petal length (cm)    0\n",
      "petal width (cm)     0\n",
      "target               0\n",
      "dtype: int64\n"
     ]
    }
   ],
   "source": [
    "descr(df)"
   ]
  },
  {
   "cell_type": "markdown",
   "metadata": {},
   "source": [
    "### Искусственные пропуски\n",
    "В исходном ДС нету пропусков, создадим их искусственно"
   ]
  },
  {
   "cell_type": "code",
   "execution_count": 96,
   "metadata": {},
   "outputs": [],
   "source": [
    "# Сколько столбцов должны быть случайно отброшены\n",
    "damage = 1\n",
    "\n",
    "# Сколько строк % должно быть случайно отброшены (нормальное распределение)\n",
    "m = 30  # среднее значение процента пропусков\n",
    "u = 15   # стандартное отклонение процента пропусков"
   ]
  },
  {
   "cell_type": "code",
   "execution_count": 97,
   "metadata": {},
   "outputs": [],
   "source": [
    "df_dmg = df.copy()\n",
    "np.random.seed(42)\n",
    "# .difference(['target'])\n",
    "random_columns = np.random.choice(df_dmg.columns, size=damage, replace=False).tolist() + ['target']\n",
    "\n",
    "for column in random_columns:\n",
    "    missing_count = normal_total(m, u, df_dmg.shape[0])\n",
    "    missing_indices = np.random.choice(df_dmg.index, size=missing_count, replace=False)\n",
    "    df_dmg.loc[missing_indices, column] = np.nan"
   ]
  },
  {
   "cell_type": "code",
   "execution_count": 98,
   "metadata": {},
   "outputs": [
    {
     "name": "stdout",
     "output_type": "stream",
     "text": [
      "Размер датасета: (150, 5)\n",
      "Столбцы и типы данных:\n",
      " sepal length (cm)    float64\n",
      "sepal width (cm)     float64\n",
      "petal length (cm)    float64\n",
      "petal width (cm)     float64\n",
      "target               float64\n",
      "dtype: object\n",
      "Количество пропусков:\n",
      " sepal length (cm)     0\n",
      "sepal width (cm)     55\n",
      "petal length (cm)     0\n",
      "petal width (cm)      0\n",
      "target               75\n",
      "dtype: int64\n"
     ]
    }
   ],
   "source": [
    "descr(df_dmg)"
   ]
  },
  {
   "cell_type": "markdown",
   "metadata": {},
   "source": [
    "# Обработка пропусков"
   ]
  },
  {
   "cell_type": "code",
   "execution_count": 110,
   "metadata": {},
   "outputs": [
    {
     "name": "stdout",
     "output_type": "stream",
     "text": [
      "['sepal length (cm)', 'sepal width (cm)', 'petal length (cm)', 'petal width (cm)']\n",
      "['target']\n"
     ]
    }
   ],
   "source": [
    "quantitative_columns = df.select_dtypes(include=['float64']).columns.tolist()\n",
    "print(quantitative_columns)\n",
    "\n",
    "categorical_columns = [ 'target' ] # df.select_dtypes(include=['object']).columns.tolist()\n",
    "print(categorical_columns)"
   ]
  },
  {
   "cell_type": "code",
   "execution_count": 111,
   "metadata": {},
   "outputs": [],
   "source": [
    "for col in quantitative_columns:\n",
    "    imp_num = SimpleImputer(strategy='median')\n",
    "    df_dmg[col] = imp_num.fit_transform(df_dmg[[col]])\n",
    "\n",
    "for col in categorical_columns:\n",
    "    imp_cat = SimpleImputer(strategy='most_frequent')\n",
    "    df_dmg[col] = imp_cat.fit_transform(df_dmg[[col]])"
   ]
  },
  {
   "cell_type": "code",
   "execution_count": 112,
   "metadata": {},
   "outputs": [
    {
     "name": "stdout",
     "output_type": "stream",
     "text": [
      "Размер датасета: (150, 5)\n",
      "Столбцы и типы данных:\n",
      " sepal length (cm)    float64\n",
      "sepal width (cm)     float64\n",
      "petal length (cm)    float64\n",
      "petal width (cm)     float64\n",
      "target               float64\n",
      "dtype: object\n",
      "Количество пропусков:\n",
      " sepal length (cm)    0\n",
      "sepal width (cm)     0\n",
      "petal length (cm)    0\n",
      "petal width (cm)     0\n",
      "target               0\n",
      "dtype: int64\n"
     ]
    }
   ],
   "source": [
    "descr(df_dmg)"
   ]
  },
  {
   "cell_type": "markdown",
   "metadata": {},
   "source": [
    "# Сравнение"
   ]
  },
  {
   "cell_type": "code",
   "execution_count": 113,
   "metadata": {},
   "outputs": [
    {
     "name": "stdout",
     "output_type": "stream",
     "text": [
      "             column  original_mean  restored_mean  original_median  \\\n",
      "0  sepal width (cm)       3.057333       3.042667              3.0   \n",
      "1            target            NaN            NaN              NaN   \n",
      "2            target            NaN            NaN              NaN   \n",
      "3            target            NaN            NaN              NaN   \n",
      "\n",
      "   restored_median  category  original_count  restored_count  \n",
      "0              3.0       NaN             NaN             NaN  \n",
      "1              NaN       0.0            50.0            18.0  \n",
      "2              NaN       1.0            50.0            24.0  \n",
      "3              NaN       2.0            50.0           108.0  \n"
     ]
    },
    {
     "data": {
      "text/html": [
       "<div>\n",
       "<style scoped>\n",
       "    .dataframe tbody tr th:only-of-type {\n",
       "        vertical-align: middle;\n",
       "    }\n",
       "\n",
       "    .dataframe tbody tr th {\n",
       "        vertical-align: top;\n",
       "    }\n",
       "\n",
       "    .dataframe thead th {\n",
       "        text-align: right;\n",
       "    }\n",
       "</style>\n",
       "<table border=\"1\" class=\"dataframe\">\n",
       "  <thead>\n",
       "    <tr style=\"text-align: right;\">\n",
       "      <th></th>\n",
       "      <th>column</th>\n",
       "      <th>original_mean</th>\n",
       "      <th>restored_mean</th>\n",
       "      <th>original_median</th>\n",
       "      <th>restored_median</th>\n",
       "      <th>category</th>\n",
       "      <th>original_count</th>\n",
       "      <th>restored_count</th>\n",
       "    </tr>\n",
       "  </thead>\n",
       "  <tbody>\n",
       "    <tr>\n",
       "      <th>0</th>\n",
       "      <td>sepal width (cm)</td>\n",
       "      <td>3.057333</td>\n",
       "      <td>3.042667</td>\n",
       "      <td>3.0</td>\n",
       "      <td>3.0</td>\n",
       "      <td>NaN</td>\n",
       "      <td>NaN</td>\n",
       "      <td>NaN</td>\n",
       "    </tr>\n",
       "    <tr>\n",
       "      <th>1</th>\n",
       "      <td>target</td>\n",
       "      <td>NaN</td>\n",
       "      <td>NaN</td>\n",
       "      <td>NaN</td>\n",
       "      <td>NaN</td>\n",
       "      <td>0.0</td>\n",
       "      <td>50.0</td>\n",
       "      <td>18.0</td>\n",
       "    </tr>\n",
       "    <tr>\n",
       "      <th>2</th>\n",
       "      <td>target</td>\n",
       "      <td>NaN</td>\n",
       "      <td>NaN</td>\n",
       "      <td>NaN</td>\n",
       "      <td>NaN</td>\n",
       "      <td>1.0</td>\n",
       "      <td>50.0</td>\n",
       "      <td>24.0</td>\n",
       "    </tr>\n",
       "    <tr>\n",
       "      <th>3</th>\n",
       "      <td>target</td>\n",
       "      <td>NaN</td>\n",
       "      <td>NaN</td>\n",
       "      <td>NaN</td>\n",
       "      <td>NaN</td>\n",
       "      <td>2.0</td>\n",
       "      <td>50.0</td>\n",
       "      <td>108.0</td>\n",
       "    </tr>\n",
       "  </tbody>\n",
       "</table>\n",
       "</div>"
      ],
      "text/plain": [
       "             column  original_mean  restored_mean  original_median  \\\n",
       "0  sepal width (cm)       3.057333       3.042667              3.0   \n",
       "1            target            NaN            NaN              NaN   \n",
       "2            target            NaN            NaN              NaN   \n",
       "3            target            NaN            NaN              NaN   \n",
       "\n",
       "   restored_median  category  original_count  restored_count  \n",
       "0              3.0       NaN             NaN             NaN  \n",
       "1              NaN       0.0            50.0            18.0  \n",
       "2              NaN       1.0            50.0            24.0  \n",
       "3              NaN       2.0            50.0           108.0  "
      ]
     },
     "execution_count": 113,
     "metadata": {},
     "output_type": "execute_result"
    }
   ],
   "source": [
    "comparison = []\n",
    "\n",
    "for column in random_columns:\n",
    "    if df[column].dtype == 'float64':  # числовые данные\n",
    "        metrics = {\n",
    "            'column': column,\n",
    "            'original_mean': df[column].mean(),\n",
    "            'restored_mean': df_dmg[column].mean(),\n",
    "            'original_median': df[column].median(),\n",
    "            'restored_median': df_dmg[column].median(),\n",
    "        }\n",
    "        comparison.append(metrics)\n",
    "    else:  # категориальные данные\n",
    "        original_counts = df[column].value_counts().to_dict()\n",
    "        restored_counts = df_dmg[column].value_counts().to_dict()\n",
    "        for category in set(original_counts.keys()).union(set(restored_counts.keys())):\n",
    "            comparison.append({\n",
    "                'column': column,\n",
    "                'category': category,\n",
    "                'original_count': original_counts.get(category, 0),\n",
    "                'restored_count': restored_counts.get(category, 0)\n",
    "            })\n",
    "\n",
    "comparison = pd.DataFrame(comparison)\n",
    "print(comparison)\n",
    "comparison.head()"
   ]
  },
  {
   "cell_type": "markdown",
   "metadata": {},
   "source": [
    "# Выводы"
   ]
  },
  {
   "cell_type": "markdown",
   "metadata": {},
   "source": [
    "### Какие способы обработки пропусков в данных для категориальных и количественных признаков Вы использовали?\n",
    "\n",
    "Для обработки пропусков использовались импьютеры (SimpleImputer)\n",
    "\n",
    "Для категориальных - со стратегией most_frequent\n",
    "Для количественных - со стратегией median"
   ]
  },
  {
   "cell_type": "markdown",
   "metadata": {},
   "source": [
    "### Какие признаки Вы будете использовать для дальнейшего построения моделей машинного обучения и почему?\n",
    "\n",
    "\\* Датасет создавался \"неполным\" искусственно\n",
    "\n",
    "В случае, если бы такой датасет был был получен от заказчика - заказчику было бы отказано, тк единственный категориальный признак - целевой и он имеет много пропусков.\n",
    "\n",
    "Импьютация количественно столбца, в целом, не привела к большим отклонениям, поэтому было бы целесообразно посмотреть на реальное поведение модели и делать выводы уже после этого."
   ]
  }
 ],
 "metadata": {
  "kernelspec": {
   "display_name": "Python 3",
   "language": "python",
   "name": "python3"
  },
  "language_info": {
   "codemirror_mode": {
    "name": "ipython",
    "version": 3
   },
   "file_extension": ".py",
   "mimetype": "text/x-python",
   "name": "python",
   "nbconvert_exporter": "python",
   "pygments_lexer": "ipython3",
   "version": "3.12.1"
  }
 },
 "nbformat": 4,
 "nbformat_minor": 2
}
