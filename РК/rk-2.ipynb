{
 "cells": [
  {
   "cell_type": "markdown",
   "metadata": {},
   "source": [
    "# Костин Сергей, ИУ5-65Б\n",
    "## Рубежный Контроль №2, В9"
   ]
  },
  {
   "cell_type": "markdown",
   "metadata": {},
   "source": [
    "Задание.\n",
    "Для заданного набора данных (по Вашему варианту) постройте модели классификации или регрессии (в зависимости от конкретной задачи, рассматриваемой в наборе данных). Для построения моделей используйте методы 1 и 2 (по варианту для Вашей группы).\n",
    "\n",
    "Оцените качество моделей на основе подходящих метрик качества (не менее двух метрик). Какие метрики качества Вы использовали и почему? Какие выводы Вы можете сделать о качестве построенных моделей? Для построения моделей необходимо выполнить требуемую предобработку данных: заполнение пропусков, кодирование категориальных признаков, и т.д."
   ]
  },
  {
   "cell_type": "markdown",
   "metadata": {},
   "source": [
    "# Импорты и либы"
   ]
  },
  {
   "cell_type": "code",
   "execution_count": 46,
   "metadata": {},
   "outputs": [],
   "source": [
    "import pandas as pd\n",
    "import numpy as np\n",
    "from sklearn.model_selection import train_test_split\n",
    "from sklearn.preprocessing import StandardScaler, LabelEncoder\n",
    "from sklearn.impute import SimpleImputer\n",
    "from sklearn.svm import SVR\n",
    "from sklearn.ensemble import GradientBoostingRegressor\n",
    "from sklearn.metrics import mean_squared_error, r2_score"
   ]
  },
  {
   "cell_type": "markdown",
   "metadata": {},
   "source": [
    "# Функции"
   ]
  },
  {
   "cell_type": "code",
   "execution_count": 42,
   "metadata": {},
   "outputs": [],
   "source": [
    "def descr(df, types = True):\n",
    "    print(\"Размер датасета:\", df.shape)\n",
    "    if types:\n",
    "        print(\"Столбцы и типы данных:\\n\", df.dtypes)\n",
    "    print(\"Количество пропусков:\\n\", df.isna().sum())"
   ]
  },
  {
   "cell_type": "markdown",
   "metadata": {},
   "source": [
    "# Подготовка"
   ]
  },
  {
   "cell_type": "code",
   "execution_count": 54,
   "metadata": {},
   "outputs": [
    {
     "data": {
      "text/plain": [
       "(6080, 14)"
      ]
     },
     "execution_count": 54,
     "metadata": {},
     "output_type": "execute_result"
    }
   ],
   "source": [
    "# Загрузка данных (здесь вам нужно указать путь к вашему файлу)\n",
    "df = pd.read_csv('houses_to_rent.csv')\n",
    "data = df.copy()\n",
    "data.shape"
   ]
  },
  {
   "cell_type": "code",
   "execution_count": 55,
   "metadata": {},
   "outputs": [
    {
     "data": {
      "text/plain": [
       "(5961, 14)"
      ]
     },
     "execution_count": 55,
     "metadata": {},
     "output_type": "execute_result"
    }
   ],
   "source": [
    "# Удаление строк, содержащих 'Sem info'\n",
    "data.replace('Sem info', np.nan, inplace=True)\n",
    "data.replace('Incluso', 0, inplace=True)\n",
    "data.dropna(inplace=True)\n",
    "data.shape"
   ]
  },
  {
   "cell_type": "code",
   "execution_count": 56,
   "metadata": {},
   "outputs": [
    {
     "name": "stdout",
     "output_type": "stream",
     "text": [
      "hoa\n",
      "rent amount\n",
      "property tax\n",
      "fire insurance\n",
      "total\n"
     ]
    }
   ],
   "source": [
    "# Обработка столбцов с ценами\n",
    "price_columns = ['hoa', 'rent amount', 'property tax', 'fire insurance', 'total']\n",
    "for col in price_columns:\n",
    "    print(col)\n",
    "    data[col] = data[col].str.replace('R$', '').str.replace(',', '').astype(float)"
   ]
  },
  {
   "cell_type": "code",
   "execution_count": 57,
   "metadata": {},
   "outputs": [],
   "source": [
    "data.replace('-', np.NaN, inplace=True)"
   ]
  },
  {
   "cell_type": "code",
   "execution_count": 58,
   "metadata": {},
   "outputs": [
    {
     "name": "stdout",
     "output_type": "stream",
     "text": [
      "Index(['Unnamed: 0', 'city', 'area', 'rooms', 'bathroom', 'parking spaces',\n",
      "       'hoa', 'rent amount', 'property tax', 'fire insurance', 'total'],\n",
      "      dtype='object')\n"
     ]
    }
   ],
   "source": [
    "# Заполнение пропусков для числовых данных\n",
    "num_cols = data.select_dtypes(include=[np.number]).columns\n",
    "print(num_cols)\n",
    "imputer = SimpleImputer(strategy='median')\n",
    "data[num_cols] = imputer.fit_transform(data[num_cols])"
   ]
  },
  {
   "cell_type": "code",
   "execution_count": 59,
   "metadata": {},
   "outputs": [
    {
     "name": "stdout",
     "output_type": "stream",
     "text": [
      "Index(['floor', 'animal', 'furniture'], dtype='object')\n"
     ]
    }
   ],
   "source": [
    "# Заполнение пропусков для категориальных данных и их кодирование\n",
    "cat_cols = data.select_dtypes(include=[object]).columns\n",
    "print(cat_cols)\n",
    "for col in cat_cols:\n",
    "    data[col] = data[col].fillna('Unknown')\n",
    "\n",
    "label_encoders = {}\n",
    "for col in cat_cols:\n",
    "    le = LabelEncoder()\n",
    "    data[col] = le.fit_transform(data[col])\n",
    "    label_encoders[col] = le"
   ]
  },
  {
   "cell_type": "code",
   "execution_count": null,
   "metadata": {},
   "outputs": [],
   "source": [
    "# Данные уже числовые\n",
    "raise\n",
    "\n",
    "# Преобразование столбцов \"можно с животными\" и \"есть ли мебель\"\n",
    "data['animal'] = data['animal'].map({'acept': 1, 'not acept': 0})\n",
    "data['furniture'] = data['furniture'].map({'furnished': 1, 'not furnished': 0})"
   ]
  },
  {
   "cell_type": "code",
   "execution_count": 61,
   "metadata": {},
   "outputs": [
    {
     "name": "stdout",
     "output_type": "stream",
     "text": [
      "Размер датасета: (5961, 14)\n",
      "Количество пропусков:\n",
      " Unnamed: 0        0\n",
      "city              0\n",
      "area              0\n",
      "rooms             0\n",
      "bathroom          0\n",
      "parking spaces    0\n",
      "floor             0\n",
      "animal            0\n",
      "furniture         0\n",
      "hoa               0\n",
      "rent amount       0\n",
      "property tax      0\n",
      "fire insurance    0\n",
      "total             0\n",
      "dtype: int64\n"
     ]
    }
   ],
   "source": [
    "descr(data, False)"
   ]
  },
  {
   "cell_type": "code",
   "execution_count": 62,
   "metadata": {},
   "outputs": [
    {
     "data": {
      "text/html": [
       "<div>\n",
       "<style scoped>\n",
       "    .dataframe tbody tr th:only-of-type {\n",
       "        vertical-align: middle;\n",
       "    }\n",
       "\n",
       "    .dataframe tbody tr th {\n",
       "        vertical-align: top;\n",
       "    }\n",
       "\n",
       "    .dataframe thead th {\n",
       "        text-align: right;\n",
       "    }\n",
       "</style>\n",
       "<table border=\"1\" class=\"dataframe\">\n",
       "  <thead>\n",
       "    <tr style=\"text-align: right;\">\n",
       "      <th></th>\n",
       "      <th>Unnamed: 0</th>\n",
       "      <th>city</th>\n",
       "      <th>area</th>\n",
       "      <th>rooms</th>\n",
       "      <th>bathroom</th>\n",
       "      <th>parking spaces</th>\n",
       "      <th>floor</th>\n",
       "      <th>animal</th>\n",
       "      <th>furniture</th>\n",
       "      <th>hoa</th>\n",
       "      <th>rent amount</th>\n",
       "      <th>property tax</th>\n",
       "      <th>fire insurance</th>\n",
       "      <th>total</th>\n",
       "    </tr>\n",
       "  </thead>\n",
       "  <tbody>\n",
       "    <tr>\n",
       "      <th>0</th>\n",
       "      <td>0.0</td>\n",
       "      <td>1.0</td>\n",
       "      <td>240.0</td>\n",
       "      <td>3.0</td>\n",
       "      <td>3.0</td>\n",
       "      <td>4.0</td>\n",
       "      <td>36</td>\n",
       "      <td>0</td>\n",
       "      <td>0</td>\n",
       "      <td>0.0</td>\n",
       "      <td>8000.0</td>\n",
       "      <td>1000.0</td>\n",
       "      <td>121.0</td>\n",
       "      <td>9121.0</td>\n",
       "    </tr>\n",
       "    <tr>\n",
       "      <th>1</th>\n",
       "      <td>1.0</td>\n",
       "      <td>0.0</td>\n",
       "      <td>64.0</td>\n",
       "      <td>2.0</td>\n",
       "      <td>1.0</td>\n",
       "      <td>1.0</td>\n",
       "      <td>1</td>\n",
       "      <td>0</td>\n",
       "      <td>1</td>\n",
       "      <td>540.0</td>\n",
       "      <td>820.0</td>\n",
       "      <td>122.0</td>\n",
       "      <td>11.0</td>\n",
       "      <td>1493.0</td>\n",
       "    </tr>\n",
       "    <tr>\n",
       "      <th>2</th>\n",
       "      <td>2.0</td>\n",
       "      <td>1.0</td>\n",
       "      <td>443.0</td>\n",
       "      <td>5.0</td>\n",
       "      <td>5.0</td>\n",
       "      <td>4.0</td>\n",
       "      <td>22</td>\n",
       "      <td>0</td>\n",
       "      <td>0</td>\n",
       "      <td>4172.0</td>\n",
       "      <td>7000.0</td>\n",
       "      <td>1417.0</td>\n",
       "      <td>89.0</td>\n",
       "      <td>12680.0</td>\n",
       "    </tr>\n",
       "    <tr>\n",
       "      <th>3</th>\n",
       "      <td>3.0</td>\n",
       "      <td>1.0</td>\n",
       "      <td>73.0</td>\n",
       "      <td>2.0</td>\n",
       "      <td>2.0</td>\n",
       "      <td>1.0</td>\n",
       "      <td>3</td>\n",
       "      <td>0</td>\n",
       "      <td>1</td>\n",
       "      <td>700.0</td>\n",
       "      <td>1250.0</td>\n",
       "      <td>150.0</td>\n",
       "      <td>16.0</td>\n",
       "      <td>2116.0</td>\n",
       "    </tr>\n",
       "    <tr>\n",
       "      <th>4</th>\n",
       "      <td>4.0</td>\n",
       "      <td>1.0</td>\n",
       "      <td>19.0</td>\n",
       "      <td>1.0</td>\n",
       "      <td>1.0</td>\n",
       "      <td>0.0</td>\n",
       "      <td>36</td>\n",
       "      <td>1</td>\n",
       "      <td>1</td>\n",
       "      <td>0.0</td>\n",
       "      <td>1200.0</td>\n",
       "      <td>41.0</td>\n",
       "      <td>16.0</td>\n",
       "      <td>1257.0</td>\n",
       "    </tr>\n",
       "  </tbody>\n",
       "</table>\n",
       "</div>"
      ],
      "text/plain": [
       "   Unnamed: 0  city   area  rooms  bathroom  parking spaces  floor  animal  \\\n",
       "0         0.0   1.0  240.0    3.0       3.0             4.0     36       0   \n",
       "1         1.0   0.0   64.0    2.0       1.0             1.0      1       0   \n",
       "2         2.0   1.0  443.0    5.0       5.0             4.0     22       0   \n",
       "3         3.0   1.0   73.0    2.0       2.0             1.0      3       0   \n",
       "4         4.0   1.0   19.0    1.0       1.0             0.0     36       1   \n",
       "\n",
       "   furniture     hoa  rent amount  property tax  fire insurance    total  \n",
       "0          0     0.0       8000.0        1000.0           121.0   9121.0  \n",
       "1          1   540.0        820.0         122.0            11.0   1493.0  \n",
       "2          0  4172.0       7000.0        1417.0            89.0  12680.0  \n",
       "3          1   700.0       1250.0         150.0            16.0   2116.0  \n",
       "4          1     0.0       1200.0          41.0            16.0   1257.0  "
      ]
     },
     "execution_count": 62,
     "metadata": {},
     "output_type": "execute_result"
    }
   ],
   "source": [
    "data.head()"
   ]
  },
  {
   "cell_type": "markdown",
   "metadata": {},
   "source": [
    "# Разделение"
   ]
  },
  {
   "cell_type": "code",
   "execution_count": 63,
   "metadata": {},
   "outputs": [],
   "source": [
    "# Разделение данных на признаки и целевую переменную\n",
    "X = data.drop(columns=['total'])\n",
    "y = data['total']"
   ]
  },
  {
   "cell_type": "code",
   "execution_count": 65,
   "metadata": {},
   "outputs": [],
   "source": [
    "# Масштабирование числовых данных\n",
    "for col in X:\n",
    "    m = X[col].max()\n",
    "    X[col] = X[col] / m"
   ]
  },
  {
   "cell_type": "code",
   "execution_count": 66,
   "metadata": {},
   "outputs": [
    {
     "name": "stdout",
     "output_type": "stream",
     "text": [
      "(5961, 13)\n"
     ]
    },
    {
     "data": {
      "text/html": [
       "<div>\n",
       "<style scoped>\n",
       "    .dataframe tbody tr th:only-of-type {\n",
       "        vertical-align: middle;\n",
       "    }\n",
       "\n",
       "    .dataframe tbody tr th {\n",
       "        vertical-align: top;\n",
       "    }\n",
       "\n",
       "    .dataframe thead th {\n",
       "        text-align: right;\n",
       "    }\n",
       "</style>\n",
       "<table border=\"1\" class=\"dataframe\">\n",
       "  <thead>\n",
       "    <tr style=\"text-align: right;\">\n",
       "      <th></th>\n",
       "      <th>Unnamed: 0</th>\n",
       "      <th>city</th>\n",
       "      <th>area</th>\n",
       "      <th>rooms</th>\n",
       "      <th>bathroom</th>\n",
       "      <th>parking spaces</th>\n",
       "      <th>floor</th>\n",
       "      <th>animal</th>\n",
       "      <th>furniture</th>\n",
       "      <th>hoa</th>\n",
       "      <th>rent amount</th>\n",
       "      <th>property tax</th>\n",
       "      <th>fire insurance</th>\n",
       "    </tr>\n",
       "  </thead>\n",
       "  <tbody>\n",
       "    <tr>\n",
       "      <th>0</th>\n",
       "      <td>0.000000</td>\n",
       "      <td>1.0</td>\n",
       "      <td>0.009754</td>\n",
       "      <td>0.3</td>\n",
       "      <td>0.3</td>\n",
       "      <td>0.333333</td>\n",
       "      <td>1.000000</td>\n",
       "      <td>0.0</td>\n",
       "      <td>0.0</td>\n",
       "      <td>0.000000</td>\n",
       "      <td>0.177778</td>\n",
       "      <td>0.002730</td>\n",
       "      <td>0.178730</td>\n",
       "    </tr>\n",
       "    <tr>\n",
       "      <th>1</th>\n",
       "      <td>0.000165</td>\n",
       "      <td>0.0</td>\n",
       "      <td>0.002601</td>\n",
       "      <td>0.2</td>\n",
       "      <td>0.1</td>\n",
       "      <td>0.083333</td>\n",
       "      <td>0.027778</td>\n",
       "      <td>0.0</td>\n",
       "      <td>1.0</td>\n",
       "      <td>0.002455</td>\n",
       "      <td>0.018222</td>\n",
       "      <td>0.000333</td>\n",
       "      <td>0.016248</td>\n",
       "    </tr>\n",
       "    <tr>\n",
       "      <th>2</th>\n",
       "      <td>0.000329</td>\n",
       "      <td>1.0</td>\n",
       "      <td>0.018004</td>\n",
       "      <td>0.5</td>\n",
       "      <td>0.5</td>\n",
       "      <td>0.333333</td>\n",
       "      <td>0.611111</td>\n",
       "      <td>0.0</td>\n",
       "      <td>0.0</td>\n",
       "      <td>0.018964</td>\n",
       "      <td>0.155556</td>\n",
       "      <td>0.003868</td>\n",
       "      <td>0.131462</td>\n",
       "    </tr>\n",
       "    <tr>\n",
       "      <th>3</th>\n",
       "      <td>0.000494</td>\n",
       "      <td>1.0</td>\n",
       "      <td>0.002967</td>\n",
       "      <td>0.2</td>\n",
       "      <td>0.2</td>\n",
       "      <td>0.083333</td>\n",
       "      <td>0.083333</td>\n",
       "      <td>0.0</td>\n",
       "      <td>1.0</td>\n",
       "      <td>0.003182</td>\n",
       "      <td>0.027778</td>\n",
       "      <td>0.000410</td>\n",
       "      <td>0.023634</td>\n",
       "    </tr>\n",
       "    <tr>\n",
       "      <th>4</th>\n",
       "      <td>0.000658</td>\n",
       "      <td>1.0</td>\n",
       "      <td>0.000772</td>\n",
       "      <td>0.1</td>\n",
       "      <td>0.1</td>\n",
       "      <td>0.000000</td>\n",
       "      <td>1.000000</td>\n",
       "      <td>1.0</td>\n",
       "      <td>1.0</td>\n",
       "      <td>0.000000</td>\n",
       "      <td>0.026667</td>\n",
       "      <td>0.000112</td>\n",
       "      <td>0.023634</td>\n",
       "    </tr>\n",
       "    <tr>\n",
       "      <th>...</th>\n",
       "      <td>...</td>\n",
       "      <td>...</td>\n",
       "      <td>...</td>\n",
       "      <td>...</td>\n",
       "      <td>...</td>\n",
       "      <td>...</td>\n",
       "      <td>...</td>\n",
       "      <td>...</td>\n",
       "      <td>...</td>\n",
       "      <td>...</td>\n",
       "      <td>...</td>\n",
       "      <td>...</td>\n",
       "      <td>...</td>\n",
       "    </tr>\n",
       "    <tr>\n",
       "      <th>6075</th>\n",
       "      <td>0.999342</td>\n",
       "      <td>1.0</td>\n",
       "      <td>0.002032</td>\n",
       "      <td>0.2</td>\n",
       "      <td>0.1</td>\n",
       "      <td>0.083333</td>\n",
       "      <td>0.305556</td>\n",
       "      <td>0.0</td>\n",
       "      <td>1.0</td>\n",
       "      <td>0.001909</td>\n",
       "      <td>0.025556</td>\n",
       "      <td>0.000000</td>\n",
       "      <td>0.022157</td>\n",
       "    </tr>\n",
       "    <tr>\n",
       "      <th>6076</th>\n",
       "      <td>0.999506</td>\n",
       "      <td>1.0</td>\n",
       "      <td>0.003414</td>\n",
       "      <td>0.2</td>\n",
       "      <td>0.2</td>\n",
       "      <td>0.083333</td>\n",
       "      <td>0.194444</td>\n",
       "      <td>1.0</td>\n",
       "      <td>0.0</td>\n",
       "      <td>0.003491</td>\n",
       "      <td>0.064444</td>\n",
       "      <td>0.000172</td>\n",
       "      <td>0.054653</td>\n",
       "    </tr>\n",
       "    <tr>\n",
       "      <th>6077</th>\n",
       "      <td>0.999671</td>\n",
       "      <td>0.0</td>\n",
       "      <td>0.001951</td>\n",
       "      <td>0.1</td>\n",
       "      <td>0.1</td>\n",
       "      <td>0.000000</td>\n",
       "      <td>0.111111</td>\n",
       "      <td>0.0</td>\n",
       "      <td>1.0</td>\n",
       "      <td>0.001136</td>\n",
       "      <td>0.021111</td>\n",
       "      <td>0.000115</td>\n",
       "      <td>0.019202</td>\n",
       "    </tr>\n",
       "    <tr>\n",
       "      <th>6078</th>\n",
       "      <td>0.999835</td>\n",
       "      <td>1.0</td>\n",
       "      <td>0.006502</td>\n",
       "      <td>0.3</td>\n",
       "      <td>0.2</td>\n",
       "      <td>0.166667</td>\n",
       "      <td>1.000000</td>\n",
       "      <td>1.0</td>\n",
       "      <td>1.0</td>\n",
       "      <td>0.000000</td>\n",
       "      <td>0.077778</td>\n",
       "      <td>0.000683</td>\n",
       "      <td>0.078287</td>\n",
       "    </tr>\n",
       "    <tr>\n",
       "      <th>6079</th>\n",
       "      <td>1.000000</td>\n",
       "      <td>1.0</td>\n",
       "      <td>0.002438</td>\n",
       "      <td>0.2</td>\n",
       "      <td>0.1</td>\n",
       "      <td>0.083333</td>\n",
       "      <td>0.722222</td>\n",
       "      <td>0.0</td>\n",
       "      <td>0.0</td>\n",
       "      <td>0.002223</td>\n",
       "      <td>0.042222</td>\n",
       "      <td>0.000000</td>\n",
       "      <td>0.036928</td>\n",
       "    </tr>\n",
       "  </tbody>\n",
       "</table>\n",
       "<p>5961 rows × 13 columns</p>\n",
       "</div>"
      ],
      "text/plain": [
       "      Unnamed: 0  city      area  rooms  bathroom  parking spaces     floor  \\\n",
       "0       0.000000   1.0  0.009754    0.3       0.3        0.333333  1.000000   \n",
       "1       0.000165   0.0  0.002601    0.2       0.1        0.083333  0.027778   \n",
       "2       0.000329   1.0  0.018004    0.5       0.5        0.333333  0.611111   \n",
       "3       0.000494   1.0  0.002967    0.2       0.2        0.083333  0.083333   \n",
       "4       0.000658   1.0  0.000772    0.1       0.1        0.000000  1.000000   \n",
       "...          ...   ...       ...    ...       ...             ...       ...   \n",
       "6075    0.999342   1.0  0.002032    0.2       0.1        0.083333  0.305556   \n",
       "6076    0.999506   1.0  0.003414    0.2       0.2        0.083333  0.194444   \n",
       "6077    0.999671   0.0  0.001951    0.1       0.1        0.000000  0.111111   \n",
       "6078    0.999835   1.0  0.006502    0.3       0.2        0.166667  1.000000   \n",
       "6079    1.000000   1.0  0.002438    0.2       0.1        0.083333  0.722222   \n",
       "\n",
       "      animal  furniture       hoa  rent amount  property tax  fire insurance  \n",
       "0        0.0        0.0  0.000000     0.177778      0.002730        0.178730  \n",
       "1        0.0        1.0  0.002455     0.018222      0.000333        0.016248  \n",
       "2        0.0        0.0  0.018964     0.155556      0.003868        0.131462  \n",
       "3        0.0        1.0  0.003182     0.027778      0.000410        0.023634  \n",
       "4        1.0        1.0  0.000000     0.026667      0.000112        0.023634  \n",
       "...      ...        ...       ...          ...           ...             ...  \n",
       "6075     0.0        1.0  0.001909     0.025556      0.000000        0.022157  \n",
       "6076     1.0        0.0  0.003491     0.064444      0.000172        0.054653  \n",
       "6077     0.0        1.0  0.001136     0.021111      0.000115        0.019202  \n",
       "6078     1.0        1.0  0.000000     0.077778      0.000683        0.078287  \n",
       "6079     0.0        0.0  0.002223     0.042222      0.000000        0.036928  \n",
       "\n",
       "[5961 rows x 13 columns]"
      ]
     },
     "execution_count": 66,
     "metadata": {},
     "output_type": "execute_result"
    }
   ],
   "source": [
    "print(X.shape)\n",
    "X"
   ]
  },
  {
   "cell_type": "code",
   "execution_count": 68,
   "metadata": {},
   "outputs": [
    {
     "name": "stdout",
     "output_type": "stream",
     "text": [
      "Размер датасета: (5961, 13)\n",
      "Количество пропусков:\n",
      " Unnamed: 0        0\n",
      "city              0\n",
      "area              0\n",
      "rooms             0\n",
      "bathroom          0\n",
      "parking spaces    0\n",
      "floor             0\n",
      "animal            0\n",
      "furniture         0\n",
      "hoa               0\n",
      "rent amount       0\n",
      "property tax      0\n",
      "fire insurance    0\n",
      "dtype: int64\n"
     ]
    }
   ],
   "source": [
    "descr(X, False)"
   ]
  },
  {
   "cell_type": "code",
   "execution_count": 69,
   "metadata": {},
   "outputs": [],
   "source": [
    "# Разделение данных на обучающую и тестовую выборки\n",
    "X_train, X_test, y_train, y_test = train_test_split(X, y, test_size=0.2, random_state=42)"
   ]
  },
  {
   "cell_type": "markdown",
   "metadata": {},
   "source": [
    "# Модель"
   ]
  },
  {
   "cell_type": "code",
   "execution_count": 70,
   "metadata": {},
   "outputs": [
    {
     "name": "stdout",
     "output_type": "stream",
     "text": [
      "SVR MSE: 181671101.5156415\n",
      "SVR R2: -0.017826849024859426\n"
     ]
    }
   ],
   "source": [
    "# Построение модели SVR\n",
    "svr_model = SVR()\n",
    "svr_model.fit(X_train, y_train)\n",
    "\n",
    "# Предсказание и оценка качества SVR\n",
    "y_pred_svr = svr_model.predict(X_test)\n",
    "mse_svr = mean_squared_error(y_test, y_pred_svr)\n",
    "r2_svr = r2_score(y_test, y_pred_svr)\n",
    "\n",
    "print(f'SVR MSE: {mse_svr}')\n",
    "print(f'SVR R2: {r2_svr}')"
   ]
  },
  {
   "cell_type": "code",
   "execution_count": 71,
   "metadata": {},
   "outputs": [
    {
     "name": "stdout",
     "output_type": "stream",
     "text": [
      "Gradient Boosting MSE: 5838418.803389454\n",
      "Gradient Boosting R2: 0.9672897925736982\n"
     ]
    }
   ],
   "source": [
    "# Построение модели Gradient Boosting\n",
    "gbr_model = GradientBoostingRegressor()\n",
    "gbr_model.fit(X_train, y_train)\n",
    "\n",
    "# Предсказание и оценка качества Gradient Boosting\n",
    "y_pred_gbr = gbr_model.predict(X_test)\n",
    "mse_gbr = mean_squared_error(y_test, y_pred_gbr)\n",
    "r2_gbr = r2_score(y_test, y_pred_gbr)\n",
    "\n",
    "print(f'Gradient Boosting MSE: {mse_gbr}')\n",
    "print(f'Gradient Boosting R2: {r2_gbr}')"
   ]
  },
  {
   "cell_type": "code",
   "execution_count": 72,
   "metadata": {},
   "outputs": [],
   "source": [
    "from sklearn.metrics import mean_absolute_error, mean_squared_error, explained_variance_score"
   ]
  },
  {
   "cell_type": "code",
   "execution_count": 73,
   "metadata": {},
   "outputs": [
    {
     "name": "stdout",
     "output_type": "stream",
     "text": [
      "SVR MAE: 3670.4423557605583\n",
      "SVR RMSE: 13478.542262264176\n",
      "SVR MAPE: 70.791556523741\n",
      "SVR Explained Variance: 0.004481766604727766\n",
      "Gradient Boosting MAE: 248.47101274557932\n",
      "Gradient Boosting RMSE: 2416.282020665107\n",
      "Gradient Boosting MAPE: 2.935158273006948\n",
      "Gradient Boosting Explained Variance: 0.9673558549422994\n"
     ]
    },
    {
     "name": "stderr",
     "output_type": "stream",
     "text": [
      "c:\\Users\\Sargeras\\AppData\\Local\\Programs\\Python\\Python312\\Lib\\site-packages\\sklearn\\metrics\\_regression.py:492: FutureWarning: 'squared' is deprecated in version 1.4 and will be removed in 1.6. To calculate the root mean squared error, use the function'root_mean_squared_error'.\n",
      "  warnings.warn(\n",
      "c:\\Users\\Sargeras\\AppData\\Local\\Programs\\Python\\Python312\\Lib\\site-packages\\sklearn\\metrics\\_regression.py:492: FutureWarning: 'squared' is deprecated in version 1.4 and will be removed in 1.6. To calculate the root mean squared error, use the function'root_mean_squared_error'.\n",
      "  warnings.warn(\n"
     ]
    }
   ],
   "source": [
    "# MAE\n",
    "mae_svr = mean_absolute_error(y_test, y_pred_svr)\n",
    "mae_gb = mean_absolute_error(y_test, y_pred_gbr)\n",
    "\n",
    "# RMSE\n",
    "rmse_svr = mean_squared_error(y_test, y_pred_svr, squared=False)\n",
    "rmse_gb = mean_squared_error(y_test, y_pred_gbr, squared=False)\n",
    "\n",
    "# MAPE\n",
    "mape_svr = np.mean(np.abs((y_test - y_pred_svr) / y_test)) * 100\n",
    "mape_gb = np.mean(np.abs((y_test - y_pred_gbr) / y_test)) * 100\n",
    "\n",
    "# Explained Variance\n",
    "ev_svr = explained_variance_score(y_test, y_pred_svr)\n",
    "ev_gb = explained_variance_score(y_test, y_pred_gbr)\n",
    "\n",
    "# Вывод метрик\n",
    "print(\"SVR MAE:\", mae_svr)\n",
    "print(\"SVR RMSE:\", rmse_svr)\n",
    "print(\"SVR MAPE:\", mape_svr)\n",
    "print(\"SVR Explained Variance:\", ev_svr)\n",
    "\n",
    "print(\"Gradient Boosting MAE:\", mae_gb)\n",
    "print(\"Gradient Boosting RMSE:\", rmse_gb)\n",
    "print(\"Gradient Boosting MAPE:\", mape_gb)\n",
    "print(\"Gradient Boosting Explained Variance:\", ev_gb)"
   ]
  },
  {
   "cell_type": "markdown",
   "metadata": {},
   "source": [
    "# Выводы"
   ]
  },
  {
   "cell_type": "markdown",
   "metadata": {},
   "source": [
    "Для оценки качества моделей были использованы следующие метрики:\n",
    "\n",
    "* MSE: Измеряет среднюю квадратичную ошибку между предсказанными и фактическими значениями.\n",
    "\n",
    "* R2: Показывает долю дисперсии зависимой переменной, которая объясняется моделью. Хорошая метрика для оценки общей эффективности модели. Больше - лучше.\n",
    "\n",
    "* Mean Absolute Error (MAE): Среднее абсолютное отклонение предсказанных значений от фактических. Метрика была выбрана, потому что она показывает **среднюю ошибку в тех же единицах**, что и исходные данные.\n",
    "\n",
    "* Root Mean Squared Error (RMSE): Квадратный корень из среднего квадрата ошибок. RMSE был выбран, потому что он учитывает большие ошибки более строго, чем MAE.\n",
    "\n",
    "* Mean Absolute Percentage Error (MAPE): Среднее абсолютное процентное отклонение предсказанных значений от фактических. MAPE позволяет понять относительную ошибку в процентах, что важно для бизнес-анализа.\n",
    "\n",
    "* Explained Variance Score: Оценка доли дисперсии данных, которая объясняется моделью. Эта метрика показывает, насколько хорошо модель объясняет вариации в данных."
   ]
  },
  {
   "cell_type": "markdown",
   "metadata": {},
   "source": [
    "Выводы о качестве построенных моделей\n",
    "\n",
    "| Metric | SVR  | GrB  | Комментарий\n",
    "| ------ | ---- | ---- | ----\n",
    "| MSE    | 181M | 5M   | \n",
    "| R2     | -0.01 |0.97 | SVR хуже среднего\n",
    "| MAE    | 3670.44  | 248.47  |\n",
    "| RMSE   | 13478.54 | 2416.28 |\n",
    "| MAPE   | 70.79%   | 2.94%   |\n",
    "| ExVr   | 0.004    | 0.967   |\n",
    "\n",
    "Support Vector Regression (SVR):\n",
    "\n",
    "    MAE: 3670.44\n",
    "    RMSE: 13478.54\n",
    "    MAPE: 70.79%\n",
    "    Explained Variance: 0.004\n",
    "\n",
    "Модель SVR имеет высокие значения ошибок (MAE и RMSE) и низкое значение Explained Variance. Высокое значение MAPE указывает на значительные относительные ошибки. Это свидетельствует о том, что модель SVR плохо справляется с задачей предсказания стоимости недвижимости в данном наборе данных.\n",
    "\n",
    "Gradient Boosting (GrB):\n",
    "\n",
    "    MAE: 248.47\n",
    "    RMSE: 2416.28\n",
    "    MAPE: 2.94%\n",
    "    Explained Variance: 0.967\n",
    "\n",
    "Модель Gradient Boosting демонстрирует значительно лучшие результаты. Низкие значения MAE и RMSE указывают на малые ошибки, низкое значение MAPE говорит о высокой точности в процентном выражении, а высокое значение Explained Variance свидетельствует о том, что модель хорошо объясняет вариации в данных. Эти метрики показывают, что модель Gradient Boosting является более подходящей для задачи предсказания стоимости недвижимости."
   ]
  }
 ],
 "metadata": {
  "kernelspec": {
   "display_name": "Python 3",
   "language": "python",
   "name": "python3"
  },
  "language_info": {
   "codemirror_mode": {
    "name": "ipython",
    "version": 3
   },
   "file_extension": ".py",
   "mimetype": "text/x-python",
   "name": "python",
   "nbconvert_exporter": "python",
   "pygments_lexer": "ipython3",
   "version": "3.12.1"
  }
 },
 "nbformat": 4,
 "nbformat_minor": 2
}
