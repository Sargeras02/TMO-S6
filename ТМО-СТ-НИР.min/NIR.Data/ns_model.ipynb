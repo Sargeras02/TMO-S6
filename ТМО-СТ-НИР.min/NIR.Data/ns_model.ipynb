{
 "cells": [
  {
   "cell_type": "markdown",
   "metadata": {},
   "source": [
    "# Сетап"
   ]
  },
  {
   "cell_type": "markdown",
   "metadata": {},
   "source": [
    "## Либы"
   ]
  },
  {
   "cell_type": "code",
   "execution_count": 1,
   "metadata": {},
   "outputs": [],
   "source": [
    "import pandas as pd\n",
    "import numpy as np\n",
    "from sklearn.model_selection import train_test_split\n",
    "from sklearn.metrics import confusion_matrix\n",
    "import seaborn as sns\n",
    "import matplotlib.pyplot as plt\n",
    "import tensorflow as tf\n",
    "from tensorflow.keras.models import Sequential\n",
    "from tensorflow.keras.layers import Dense, Dropout, BatchNormalization"
   ]
  },
  {
   "cell_type": "markdown",
   "metadata": {},
   "source": [
    "# Основная часть"
   ]
  },
  {
   "cell_type": "code",
   "execution_count": 12,
   "metadata": {},
   "outputs": [],
   "source": [
    "# Загрузка данных\n",
    "data_path = '../ASA-Data/numbers.csv'\n",
    "df = pd.read_csv(data_path)"
   ]
  },
  {
   "cell_type": "code",
   "execution_count": 7,
   "metadata": {},
   "outputs": [],
   "source": [
    "target_col = 'result'"
   ]
  },
  {
   "cell_type": "code",
   "execution_count": null,
   "metadata": {},
   "outputs": [],
   "source": [
    "target_col = 'alert'"
   ]
  },
  {
   "cell_type": "code",
   "execution_count": null,
   "metadata": {},
   "outputs": [],
   "source": [
    "# Загрузка данных\n",
    "data_path = '../ASA-Data/cleaned_dataset.csv'\n",
    "df = pd.read_csv(data_path)"
   ]
  },
  {
   "cell_type": "code",
   "execution_count": null,
   "metadata": {},
   "outputs": [],
   "source": [
    "# Определение размера чанка\n",
    "chunk_size = 500000  # Укажите нужный размер чанка\n",
    "\n",
    "# Вычисление количества чанков\n",
    "num_chunks = (len(df) // chunk_size) + (1 if len(df) % chunk_size != 0 else 0)\n",
    "\n",
    "# Разбиение и сохранение чанков\n",
    "for i in range(num_chunks):\n",
    "    start_index = i * chunk_size\n",
    "    end_index = (i + 1) * chunk_size\n",
    "    df_chunk = df[start_index:end_index]\n",
    "    \n",
    "    # Сохранение текущего чанка в CSV файл\n",
    "    file_name = f'../ASA-Data/cleaned_dataset_chunk{i}.csv'\n",
    "    df[start_index:end_index].to_csv(file_name, index=False)\n",
    "    \n",
    "    print(f'Сохранен файл {file_name} с {start_index} по {end_index} строку.')\n",
    "\n",
    "print(f'Общее количество чанков: {num_chunks}')"
   ]
  },
  {
   "cell_type": "code",
   "execution_count": null,
   "metadata": {},
   "outputs": [],
   "source": [
    "# Загрузка данных\n",
    "data_path = '../ASA-Data/low_served.csv'\n",
    "df = pd.read_csv(data_path) #, nrows=1000000)"
   ]
  },
  {
   "cell_type": "code",
   "execution_count": null,
   "metadata": {},
   "outputs": [],
   "source": [
    "lo = [ 'eth.src', 'eth.dst', 'ip.src', 'ip.dst' ]\n",
    "df.drop(lo, axis=1, inplace=True)"
   ]
  },
  {
   "cell_type": "code",
   "execution_count": 13,
   "metadata": {},
   "outputs": [
    {
     "name": "stdout",
     "output_type": "stream",
     "text": [
      "11\n",
      "oper0\n",
      "oper1\n",
      "oper2\n",
      "oper3\n",
      "opand0\n",
      "opand1\n",
      "opand2\n",
      "opand3\n",
      "opand4\n",
      "target\n",
      "result\n"
     ]
    }
   ],
   "source": [
    "print(len(df.columns))\n",
    "for column in df.columns:\n",
    "    print(f\"{column}\")"
   ]
  },
  {
   "cell_type": "code",
   "execution_count": 14,
   "metadata": {},
   "outputs": [
    {
     "data": {
      "text/html": [
       "<div>\n",
       "<style scoped>\n",
       "    .dataframe tbody tr th:only-of-type {\n",
       "        vertical-align: middle;\n",
       "    }\n",
       "\n",
       "    .dataframe tbody tr th {\n",
       "        vertical-align: top;\n",
       "    }\n",
       "\n",
       "    .dataframe thead th {\n",
       "        text-align: right;\n",
       "    }\n",
       "</style>\n",
       "<table border=\"1\" class=\"dataframe\">\n",
       "  <thead>\n",
       "    <tr style=\"text-align: right;\">\n",
       "      <th></th>\n",
       "      <th>oper0</th>\n",
       "      <th>oper1</th>\n",
       "      <th>oper2</th>\n",
       "      <th>oper3</th>\n",
       "      <th>opand0</th>\n",
       "      <th>opand1</th>\n",
       "      <th>opand2</th>\n",
       "      <th>opand3</th>\n",
       "      <th>opand4</th>\n",
       "      <th>target</th>\n",
       "      <th>result</th>\n",
       "    </tr>\n",
       "  </thead>\n",
       "  <tbody>\n",
       "    <tr>\n",
       "      <th>0</th>\n",
       "      <td>0.25</td>\n",
       "      <td>0.00</td>\n",
       "      <td>0.75</td>\n",
       "      <td>0.00</td>\n",
       "      <td>0.23225</td>\n",
       "      <td>0.21662</td>\n",
       "      <td>0.21891</td>\n",
       "      <td>0.69452</td>\n",
       "      <td>0.99420</td>\n",
       "      <td>0.71479</td>\n",
       "      <td>1</td>\n",
       "    </tr>\n",
       "    <tr>\n",
       "      <th>1</th>\n",
       "      <td>0.75</td>\n",
       "      <td>0.50</td>\n",
       "      <td>0.00</td>\n",
       "      <td>0.75</td>\n",
       "      <td>0.40022</td>\n",
       "      <td>0.06943</td>\n",
       "      <td>0.69548</td>\n",
       "      <td>0.86058</td>\n",
       "      <td>0.09366</td>\n",
       "      <td>0.64299</td>\n",
       "      <td>0</td>\n",
       "    </tr>\n",
       "    <tr>\n",
       "      <th>2</th>\n",
       "      <td>0.00</td>\n",
       "      <td>0.75</td>\n",
       "      <td>0.25</td>\n",
       "      <td>0.50</td>\n",
       "      <td>0.97388</td>\n",
       "      <td>0.21556</td>\n",
       "      <td>0.44696</td>\n",
       "      <td>0.77625</td>\n",
       "      <td>0.28900</td>\n",
       "      <td>0.61628</td>\n",
       "      <td>0</td>\n",
       "    </tr>\n",
       "    <tr>\n",
       "      <th>3</th>\n",
       "      <td>0.75</td>\n",
       "      <td>0.50</td>\n",
       "      <td>0.50</td>\n",
       "      <td>0.00</td>\n",
       "      <td>0.38641</td>\n",
       "      <td>0.77762</td>\n",
       "      <td>0.15890</td>\n",
       "      <td>0.81743</td>\n",
       "      <td>0.36985</td>\n",
       "      <td>0.60013</td>\n",
       "      <td>1</td>\n",
       "    </tr>\n",
       "    <tr>\n",
       "      <th>4</th>\n",
       "      <td>0.50</td>\n",
       "      <td>0.75</td>\n",
       "      <td>0.00</td>\n",
       "      <td>0.50</td>\n",
       "      <td>0.96803</td>\n",
       "      <td>0.74497</td>\n",
       "      <td>0.63718</td>\n",
       "      <td>0.89167</td>\n",
       "      <td>0.26361</td>\n",
       "      <td>0.48156</td>\n",
       "      <td>0</td>\n",
       "    </tr>\n",
       "  </tbody>\n",
       "</table>\n",
       "</div>"
      ],
      "text/plain": [
       "   oper0  oper1  oper2  oper3   opand0   opand1   opand2   opand3   opand4  \\\n",
       "0   0.25   0.00   0.75   0.00  0.23225  0.21662  0.21891  0.69452  0.99420   \n",
       "1   0.75   0.50   0.00   0.75  0.40022  0.06943  0.69548  0.86058  0.09366   \n",
       "2   0.00   0.75   0.25   0.50  0.97388  0.21556  0.44696  0.77625  0.28900   \n",
       "3   0.75   0.50   0.50   0.00  0.38641  0.77762  0.15890  0.81743  0.36985   \n",
       "4   0.50   0.75   0.00   0.50  0.96803  0.74497  0.63718  0.89167  0.26361   \n",
       "\n",
       "    target  result  \n",
       "0  0.71479       1  \n",
       "1  0.64299       0  \n",
       "2  0.61628       0  \n",
       "3  0.60013       1  \n",
       "4  0.48156       0  "
      ]
     },
     "execution_count": 14,
     "metadata": {},
     "output_type": "execute_result"
    }
   ],
   "source": [
    "df.head()"
   ]
  },
  {
   "cell_type": "code",
   "execution_count": 15,
   "metadata": {},
   "outputs": [
    {
     "name": "stdout",
     "output_type": "stream",
     "text": [
      "Количество каждого класса:\n",
      " result\n",
      "0    8169\n",
      "1    1831\n",
      "Name: count, dtype: int64\n",
      "Процентное соотношение каждого класса:\n",
      " result\n",
      "0    81.69\n",
      "1    18.31\n",
      "Name: count, dtype: float64\n"
     ]
    }
   ],
   "source": [
    "# Подсчет количества каждого класса в столбце 'alert'\n",
    "class_counts = df[target_col].value_counts()\n",
    "print(\"Количество каждого класса:\\n\", class_counts)\n",
    "\n",
    "# Вычисление процентного соотношения каждого класса\n",
    "class_percentages = class_counts / len(df) * 100\n",
    "print(\"Процентное соотношение каждого класса:\\n\", class_percentages)"
   ]
  },
  {
   "cell_type": "code",
   "execution_count": null,
   "metadata": {},
   "outputs": [],
   "source": [
    "df.head()"
   ]
  },
  {
   "cell_type": "code",
   "execution_count": 16,
   "metadata": {},
   "outputs": [
    {
     "name": "stdout",
     "output_type": "stream",
     "text": [
      "Количество строк с result = 1: 1831\n",
      "Количество строк с result = 0: 1831\n",
      "Общее количество строк в df_final: 3662\n"
     ]
    }
   ],
   "source": [
    "# Отбор строк с alert = 1\n",
    "df_alert_1 = df[df[target_col] == 1]\n",
    "count_alert_1 = df_alert_1.shape[0]\n",
    "\n",
    "# Отбор строк с alert = 0\n",
    "df_alert_0 = df[df[target_col] == 0]\n",
    "count_alert_0 = df_alert_0.shape[0]\n",
    "\n",
    "# Если строк с alert = 1 больше чем строк с alert = 0, то\n",
    "# делаем отбор только доступного количества строк с alert = 0\n",
    "if count_alert_1 > count_alert_0:\n",
    "    df_alert_1 = df_alert_1.sample(n=count_alert_0, random_state=42)\n",
    "    count_alert_1 = count_alert_0\n",
    "\n",
    "# Отбор строк с alert = 0 (количество строк соответствует количеству строк с alert = 1)\n",
    "df_alert_0 = df_alert_0.sample(n=count_alert_1, random_state=42)\n",
    "\n",
    "# Объединение данных в новый DataFrame\n",
    "df_final = pd.concat([df_alert_1, df_alert_0])\n",
    "\n",
    "# Перемешивание строк в df_final (необязательно, но рекомендуется)\n",
    "df_final = df_final.sample(frac=1, random_state=42).reset_index(drop=True)\n",
    "\n",
    "# Проверка итогового количества строк в новом DataFrame\n",
    "print(f\"Количество строк с {target_col} = 1: {df_final[df_final[target_col] == 1].shape[0]}\")\n",
    "print(f\"Количество строк с {target_col} = 0: {df_final[df_final[target_col] == 0].shape[0]}\")\n",
    "print(f\"Общее количество строк в df_final: {df_final.shape[0]}\")"
   ]
  },
  {
   "cell_type": "code",
   "execution_count": null,
   "metadata": {},
   "outputs": [],
   "source": [
    "df_final.to_csv('../ASA-Data/final_equal.csv', index=False)"
   ]
  },
  {
   "cell_type": "code",
   "execution_count": 2,
   "metadata": {},
   "outputs": [],
   "source": [
    "df_final = pd.read_csv('../ASA-Data/final_equal.csv')"
   ]
  },
  {
   "cell_type": "code",
   "execution_count": null,
   "metadata": {},
   "outputs": [],
   "source": [
    "lo = [ 'eth.src', 'eth.dst', 'ip.src', 'ip.dst' ]\n",
    "df_final.drop(lo, axis=1, inplace=True)"
   ]
  },
  {
   "cell_type": "code",
   "execution_count": null,
   "metadata": {},
   "outputs": [],
   "source": [
    "df[(df['alert'] == 1)]"
   ]
  },
  {
   "cell_type": "code",
   "execution_count": 17,
   "metadata": {},
   "outputs": [
    {
     "name": "stdout",
     "output_type": "stream",
     "text": [
      "Количество каждого класса:\n",
      " result\n",
      "0    1831\n",
      "1    1831\n",
      "Name: count, dtype: int64\n",
      "Процентное соотношение каждого класса:\n",
      " result\n",
      "0    50.0\n",
      "1    50.0\n",
      "Name: count, dtype: float64\n"
     ]
    }
   ],
   "source": [
    "# Подсчет количества каждого класса в столбце 'alert'\n",
    "class_counts = df_final[target_col].value_counts()\n",
    "print(\"Количество каждого класса:\\n\", class_counts)\n",
    "\n",
    "# Вычисление процентного соотношения каждого класса\n",
    "class_percentages = class_counts / len(df_final) * 100\n",
    "print(\"Процентное соотношение каждого класса:\\n\", class_percentages)"
   ]
  },
  {
   "cell_type": "code",
   "execution_count": 18,
   "metadata": {},
   "outputs": [],
   "source": [
    "# Предполагая, что 'alert' - это целевой столбец\n",
    "target_column = target_col\n",
    "X = df_final.drop(columns=[target_column])\n",
    "y = df_final[target_column]\n",
    "\n",
    "# Разделение данных на обучающую, тестовую и валидационную выборки\n",
    "# temp = 40%\n",
    "X_train, X_temp, y_train, y_temp = train_test_split(X, y, test_size=0.4, random_state=42)\n",
    "X_val, X_test, y_val, y_test = train_test_split(X_temp, y_temp, test_size=0.5, random_state=42)"
   ]
  },
  {
   "cell_type": "code",
   "execution_count": 19,
   "metadata": {},
   "outputs": [
    {
     "data": {
      "text/plain": [
       "10"
      ]
     },
     "execution_count": 19,
     "metadata": {},
     "output_type": "execute_result"
    }
   ],
   "source": [
    "inp_size = X_train.shape[1]\n",
    "inp_size"
   ]
  },
  {
   "cell_type": "code",
   "execution_count": 78,
   "metadata": {},
   "outputs": [
    {
     "name": "stderr",
     "output_type": "stream",
     "text": [
      "c:\\Users\\Sargeras\\AppData\\Local\\Programs\\Python\\Python312\\Lib\\site-packages\\keras\\src\\layers\\core\\dense.py:87: UserWarning: Do not pass an `input_shape`/`input_dim` argument to a layer. When using Sequential models, prefer using an `Input(shape)` object as the first layer in the model instead.\n",
      "  super().__init__(activity_regularizer=activity_regularizer, **kwargs)\n"
     ]
    }
   ],
   "source": [
    "# 1 - Создание модели\n",
    "model = Sequential()\n",
    "model.add(Dense(1024, input_dim=inp_size, activation='relu'))\n",
    "model.add(Dropout(0.5))\n",
    "model.add(Dense(512, activation='relu'))\n",
    "model.add(Dropout(0.5))\n",
    "model.add(Dense(128, activation='relu'))\n",
    "model.add(Dense(32, activation='relu'))\n",
    "model.add(Dense(1, activation='sigmoid'))  # Используйте 'softmax' для многоклассовой классификации\n",
    "\n",
    "# Компиляция модели\n",
    "model.compile(optimizer='adam', loss='binary_crossentropy', metrics=['accuracy'])\n",
    "# Используйте 'categorical_crossentropy' для многоклассовой классификации"
   ]
  },
  {
   "cell_type": "code",
   "execution_count": 22,
   "metadata": {},
   "outputs": [
    {
     "name": "stderr",
     "output_type": "stream",
     "text": [
      "c:\\Users\\Sargeras\\AppData\\Local\\Programs\\Python\\Python312\\Lib\\site-packages\\keras\\src\\layers\\core\\dense.py:87: UserWarning: Do not pass an `input_shape`/`input_dim` argument to a layer. When using Sequential models, prefer using an `Input(shape)` object as the first layer in the model instead.\n",
      "  super().__init__(activity_regularizer=activity_regularizer, **kwargs)\n"
     ]
    }
   ],
   "source": [
    "# 2 - Создание модели\n",
    "model = Sequential()\n",
    "model.add(Dense(128, input_dim=inp_size, activation='relu'))\n",
    "model.add(Dropout(0.4))\n",
    "model.add(Dense(256, activation='relu'))\n",
    "model.add(Dropout(0.2))\n",
    "model.add(Dense(64, activation='relu'))\n",
    "model.add(Dense(8, activation='relu'))\n",
    "model.add(Dense(1, activation='sigmoid'))  # Используйте 'softmax' для многоклассовой классификации\n",
    "\n",
    "# Компиляция модели\n",
    "model.compile(optimizer='adam', loss='binary_crossentropy', metrics=['accuracy'])\n",
    "# Используйте 'categorical_crossentropy' для многоклассовой классификации"
   ]
  },
  {
   "cell_type": "code",
   "execution_count": 97,
   "metadata": {},
   "outputs": [],
   "source": [
    "# 3 - Создание модели\n",
    "model = Sequential()\n",
    "model.add(Dense(128, input_dim=inp_size, activation='relu'))\n",
    "model.add(Dropout(0.4))\n",
    "model.add(BatchNormalization())\n",
    "model.add(Dense(256, activation='relu'))\n",
    "model.add(Dropout(0.2))\n",
    "model.add(BatchNormalization())\n",
    "model.add(Dense(64, activation='relu'))\n",
    "model.add(Dense(8, activation='relu'))\n",
    "model.add(Dense(1, activation='sigmoid'))  # Используйте 'softmax' для многоклассовой классификации\n",
    "\n",
    "# Компиляция модели\n",
    "model.compile(optimizer='adam', loss='binary_crossentropy', metrics=['accuracy'])\n",
    "# Используйте 'categorical_crossentropy' для многоклассовой классификации"
   ]
  },
  {
   "cell_type": "code",
   "execution_count": 20,
   "metadata": {},
   "outputs": [
    {
     "name": "stderr",
     "output_type": "stream",
     "text": [
      "c:\\Users\\Sargeras\\AppData\\Local\\Programs\\Python\\Python312\\Lib\\site-packages\\keras\\src\\layers\\core\\dense.py:87: UserWarning: Do not pass an `input_shape`/`input_dim` argument to a layer. When using Sequential models, prefer using an `Input(shape)` object as the first layer in the model instead.\n",
      "  super().__init__(activity_regularizer=activity_regularizer, **kwargs)\n"
     ]
    }
   ],
   "source": [
    "# 4 - Создание модели\n",
    "model = Sequential()\n",
    "model.add(Dense(128, input_dim=inp_size, activation='relu'))\n",
    "model.add(Dense(256, activation='relu'))\n",
    "model.add(Dense(128, activation='relu'))\n",
    "model.add(Dense(32, activation='relu'))\n",
    "model.add(Dense(8, activation='relu'))\n",
    "model.add(Dense(1, activation='sigmoid'))  # Используйте 'softmax' для многоклассовой классификации\n",
    "\n",
    "# Компиляция модели\n",
    "model.compile(optimizer='adam', loss='binary_crossentropy', metrics=['accuracy'])\n",
    "# Используйте 'categorical_crossentropy' для многоклассовой классификации"
   ]
  },
  {
   "cell_type": "code",
   "execution_count": 68,
   "metadata": {},
   "outputs": [
    {
     "name": "stderr",
     "output_type": "stream",
     "text": [
      "c:\\Users\\Sargeras\\AppData\\Local\\Programs\\Python\\Python312\\Lib\\site-packages\\keras\\src\\layers\\core\\dense.py:87: UserWarning: Do not pass an `input_shape`/`input_dim` argument to a layer. When using Sequential models, prefer using an `Input(shape)` object as the first layer in the model instead.\n",
      "  super().__init__(activity_regularizer=activity_regularizer, **kwargs)\n"
     ]
    }
   ],
   "source": [
    "# 5 - Создание модели\n",
    "model = Sequential()\n",
    "model.add(Dense(32, input_dim=inp_size, activation='relu'))\n",
    "model.add(Dense(64, activation='relu'))\n",
    "model.add(Dense(16, activation='relu'))\n",
    "model.add(Dense(32, activation='relu'))\n",
    "model.add(Dense(8, activation='relu'))\n",
    "model.add(Dense(16, activation='relu'))\n",
    "model.add(Dense(4, activation='relu'))\n",
    "model.add(Dense(8, activation='relu'))\n",
    "model.add(Dense(2, activation='relu'))\n",
    "model.add(Dense(4, activation='relu'))\n",
    "model.add(Dense(1, activation='sigmoid'))  # Используйте 'softmax' для многоклассовой классификации\n",
    "\n",
    "# Компиляция модели\n",
    "model.compile(optimizer='adam', loss='binary_crossentropy', metrics=['accuracy'])\n",
    "# Используйте 'categorical_crossentropy' для многоклассовой классификации"
   ]
  },
  {
   "cell_type": "code",
   "execution_count": 71,
   "metadata": {},
   "outputs": [
    {
     "name": "stderr",
     "output_type": "stream",
     "text": [
      "c:\\Users\\Sargeras\\AppData\\Local\\Programs\\Python\\Python312\\Lib\\site-packages\\keras\\src\\layers\\core\\dense.py:87: UserWarning: Do not pass an `input_shape`/`input_dim` argument to a layer. When using Sequential models, prefer using an `Input(shape)` object as the first layer in the model instead.\n",
      "  super().__init__(activity_regularizer=activity_regularizer, **kwargs)\n"
     ]
    }
   ],
   "source": [
    "# 6 - Создание модели\n",
    "# ГЛАВНАЯ\n",
    "model = Sequential()\n",
    "model.add(Dense(230, input_dim=inp_size, activation='relu'))\n",
    "model.add(Dense(412, activation='relu'))\n",
    "model.add(Dropout(0.4))\n",
    "model.add(Dense(412, activation='relu'))\n",
    "model.add(Dense(192, activation='relu'))\n",
    "model.add(Dense(72, activation='relu'))\n",
    "model.add(Dense(27, activation='relu'))\n",
    "model.add(Dense(3, activation='relu'))\n",
    "model.add(Dense(1, activation='sigmoid'))  # Используйте 'softmax' для многоклассовой классификации\n",
    "\n",
    "# Компиляция модели\n",
    "model.compile(optimizer='adam', loss='binary_crossentropy', metrics=['accuracy'])\n",
    "# Используйте 'categorical_crossentropy' для многоклассовой классификации"
   ]
  },
  {
   "cell_type": "code",
   "execution_count": 25,
   "metadata": {},
   "outputs": [
    {
     "name": "stdout",
     "output_type": "stream",
     "text": [
      "Epoch 1/10\n",
      "\u001b[1m92/92\u001b[0m \u001b[32m━━━━━━━━━━━━━━━━━━━━\u001b[0m\u001b[37m\u001b[0m \u001b[1m0s\u001b[0m 2ms/step - accuracy: 0.7970 - loss: 0.4007 - val_accuracy: 0.8074 - val_loss: 0.4044\n",
      "Epoch 2/10\n",
      "\u001b[1m92/92\u001b[0m \u001b[32m━━━━━━━━━━━━━━━━━━━━\u001b[0m\u001b[37m\u001b[0m \u001b[1m0s\u001b[0m 1ms/step - accuracy: 0.8326 - loss: 0.3764 - val_accuracy: 0.7705 - val_loss: 0.4286\n",
      "Epoch 3/10\n",
      "\u001b[1m92/92\u001b[0m \u001b[32m━━━━━━━━━━━━━━━━━━━━\u001b[0m\u001b[37m\u001b[0m \u001b[1m0s\u001b[0m 2ms/step - accuracy: 0.8084 - loss: 0.3901 - val_accuracy: 0.8046 - val_loss: 0.4047\n",
      "Epoch 4/10\n",
      "\u001b[1m92/92\u001b[0m \u001b[32m━━━━━━━━━━━━━━━━━━━━\u001b[0m\u001b[37m\u001b[0m \u001b[1m0s\u001b[0m 2ms/step - accuracy: 0.8032 - loss: 0.4065 - val_accuracy: 0.7910 - val_loss: 0.4170\n",
      "Epoch 5/10\n",
      "\u001b[1m92/92\u001b[0m \u001b[32m━━━━━━━━━━━━━━━━━━━━\u001b[0m\u001b[37m\u001b[0m \u001b[1m0s\u001b[0m 2ms/step - accuracy: 0.8157 - loss: 0.3837 - val_accuracy: 0.7883 - val_loss: 0.4199\n",
      "Epoch 6/10\n",
      "\u001b[1m92/92\u001b[0m \u001b[32m━━━━━━━━━━━━━━━━━━━━\u001b[0m\u001b[37m\u001b[0m \u001b[1m0s\u001b[0m 1ms/step - accuracy: 0.8115 - loss: 0.3993 - val_accuracy: 0.7814 - val_loss: 0.4188\n",
      "Epoch 7/10\n",
      "\u001b[1m92/92\u001b[0m \u001b[32m━━━━━━━━━━━━━━━━━━━━\u001b[0m\u001b[37m\u001b[0m \u001b[1m0s\u001b[0m 1ms/step - accuracy: 0.8077 - loss: 0.3972 - val_accuracy: 0.8019 - val_loss: 0.4084\n",
      "Epoch 8/10\n",
      "\u001b[1m92/92\u001b[0m \u001b[32m━━━━━━━━━━━━━━━━━━━━\u001b[0m\u001b[37m\u001b[0m \u001b[1m0s\u001b[0m 1ms/step - accuracy: 0.8142 - loss: 0.3911 - val_accuracy: 0.7951 - val_loss: 0.4081\n",
      "Epoch 9/10\n",
      "\u001b[1m92/92\u001b[0m \u001b[32m━━━━━━━━━━━━━━━━━━━━\u001b[0m\u001b[37m\u001b[0m \u001b[1m0s\u001b[0m 1ms/step - accuracy: 0.7893 - loss: 0.4277 - val_accuracy: 0.8019 - val_loss: 0.4064\n",
      "Epoch 10/10\n",
      "\u001b[1m92/92\u001b[0m \u001b[32m━━━━━━━━━━━━━━━━━━━━\u001b[0m\u001b[37m\u001b[0m \u001b[1m0s\u001b[0m 2ms/step - accuracy: 0.8143 - loss: 0.3778 - val_accuracy: 0.7787 - val_loss: 0.4100\n"
     ]
    }
   ],
   "source": [
    "# Обучение модели\n",
    "history = model.fit(X_train, y_train, epochs=10, batch_size=24, validation_data=(X_val, y_val))"
   ]
  },
  {
   "cell_type": "code",
   "execution_count": 26,
   "metadata": {},
   "outputs": [
    {
     "name": "stdout",
     "output_type": "stream",
     "text": [
      "\u001b[1m23/23\u001b[0m \u001b[32m━━━━━━━━━━━━━━━━━━━━\u001b[0m\u001b[37m\u001b[0m \u001b[1m0s\u001b[0m 1ms/step - accuracy: 0.8048 - loss: 0.4113 \n",
      "Test Loss: 0.4105016589164734, Test Accuracy: 0.8008185625076294\n"
     ]
    }
   ],
   "source": [
    "# Оценка модели на тестовой выборке\n",
    "test_loss, test_accuracy = model.evaluate(X_test, y_test)\n",
    "print(f'Test Loss: {test_loss}, Test Accuracy: {test_accuracy}')"
   ]
  },
  {
   "cell_type": "code",
   "execution_count": 27,
   "metadata": {},
   "outputs": [
    {
     "data": {
      "image/png": "[encoded data removed]",
      "text/plain": [
       "<Figure size 1200x500 with 2 Axes>"
      ]
     },
     "metadata": {},
     "output_type": "display_data"
    }
   ],
   "source": [
    "# Построение графика потерь\n",
    "plt.figure(figsize=(12, 5))\n",
    "\n",
    "plt.subplot(1, 2, 1)\n",
    "plt.plot(history.history['loss'], label='Тренировочный')\n",
    "plt.plot(history.history['val_loss'], label='Валидационный')\n",
    "plt.title('Тренировочная и Валидационная Потери')\n",
    "plt.xlabel('Эпоха')\n",
    "plt.ylabel('Потери')\n",
    "plt.legend()\n",
    "\n",
    "# Построение графика точности\n",
    "plt.subplot(1, 2, 2)\n",
    "plt.plot(history.history['accuracy'], label='Тренировочный')\n",
    "plt.plot(history.history['val_accuracy'], label='Валидационный')\n",
    "plt.title('Тренировочная и Валидационная Точночти')\n",
    "plt.xlabel('Эпоха')\n",
    "plt.ylabel('Точночть')\n",
    "plt.legend()\n",
    "\n",
    "plt.tight_layout()\n",
    "plt.show()"
   ]
  },
  {
   "cell_type": "code",
   "execution_count": 28,
   "metadata": {},
   "outputs": [
    {
     "name": "stdout",
     "output_type": "stream",
     "text": [
      "\u001b[1m23/23\u001b[0m \u001b[32m━━━━━━━━━━━━━━━━━━━━\u001b[0m\u001b[37m\u001b[0m \u001b[1m0s\u001b[0m 2ms/step\n"
     ]
    }
   ],
   "source": [
    "# Предсказания на тестовом наборе данных\n",
    "y_pred = (model.predict(X_test) > 0.5).astype(\"int32\")\n",
    "\n",
    "# Построение матрицы ошибок (confusion matrix)\n",
    "conf_matrix = confusion_matrix(y_test, y_pred)"
   ]
  },
  {
   "cell_type": "code",
   "execution_count": 29,
   "metadata": {},
   "outputs": [
    {
     "data": {
      "image/png": "[encoded data removed]",
      "text/plain": [
       "<Figure size 1000x700 with 2 Axes>"
      ]
     },
     "metadata": {},
     "output_type": "display_data"
    }
   ],
   "source": [
    "# Визуализация матрицы ошибок в виде тепловой карты\n",
    "plt.figure(figsize=(10, 7))\n",
    "sns.heatmap(conf_matrix, annot=True, fmt='d', cmap='coolwarm', xticklabels=['Подозрительный', 'Обычный'], yticklabels=['Подозрительный', 'Обычный'])\n",
    "plt.xlabel('Предсказанный класс')\n",
    "plt.ylabel('Ожидаемый класс')\n",
    "plt.title('Матрица ошибок')\n",
    "plt.show()"
   ]
  },
  {
   "cell_type": "markdown",
   "metadata": {},
   "source": [
    "# Проверка на остатках"
   ]
  },
  {
   "cell_type": "code",
   "execution_count": 30,
   "metadata": {},
   "outputs": [],
   "source": [
    "# Инициализация пустых массивов для хранения предсказаний и истинных меток\n",
    "y_true_big = []\n",
    "y_pred_big = []\n",
    "\n",
    "chunk_size = 2"
   ]
  },
  {
   "cell_type": "code",
   "execution_count": 31,
   "metadata": {},
   "outputs": [
    {
     "data": {
      "text/plain": [
       "1"
      ]
     },
     "execution_count": 31,
     "metadata": {},
     "output_type": "execute_result"
    }
   ],
   "source": [
    "# Размер порции данных\n",
    "chunk_size = 500000\n",
    "\n",
    "# Количество итераций, необходимых для обработки всего df\n",
    "num_chunks = len(df) // chunk_size + int(len(df) % chunk_size > 0)\n",
    "num_chunks"
   ]
  },
  {
   "cell_type": "code",
   "execution_count": 33,
   "metadata": {},
   "outputs": [
    {
     "name": "stdout",
     "output_type": "stream",
     "text": [
      "0\n"
     ]
    },
    {
     "ename": "KeyError",
     "evalue": "\"['alert'] not found in axis\"",
     "output_type": "error",
     "traceback": [
      "\u001b[1;31m---------------------------------------------------------------------------\u001b[0m",
      "\u001b[1;31mKeyError\u001b[0m                                  Traceback (most recent call last)",
      "Cell \u001b[1;32mIn[33], line 8\u001b[0m\n\u001b[0;32m      4\u001b[0m df_chunk \u001b[38;5;241m=\u001b[39m df\u001b[38;5;241m.\u001b[39miloc[i\u001b[38;5;241m*\u001b[39mchunk_size:(i\u001b[38;5;241m+\u001b[39m\u001b[38;5;241m1\u001b[39m)\u001b[38;5;241m*\u001b[39mchunk_size]\n\u001b[0;32m      5\u001b[0m \u001b[38;5;66;03m#df_chunk = pd.read_csv(f'../ASA-Data/cleaned_dataset_chunk{i}.csv')\u001b[39;00m\n\u001b[0;32m      6\u001b[0m \n\u001b[0;32m      7\u001b[0m \u001b[38;5;66;03m# Формирование тестовой выборки (без alert)\u001b[39;00m\n\u001b[1;32m----> 8\u001b[0m X_test_big \u001b[38;5;241m=\u001b[39m \u001b[43mdf_chunk\u001b[49m\u001b[38;5;241;43m.\u001b[39;49m\u001b[43mdrop\u001b[49m\u001b[43m(\u001b[49m\u001b[43mcolumns\u001b[49m\u001b[38;5;241;43m=\u001b[39;49m\u001b[43m[\u001b[49m\u001b[38;5;124;43m'\u001b[39;49m\u001b[38;5;124;43malert\u001b[39;49m\u001b[38;5;124;43m'\u001b[39;49m\u001b[43m]\u001b[49m\u001b[43m)\u001b[49m\n\u001b[0;32m     10\u001b[0m \u001b[38;5;66;03m# Прогон через обученную модель для получения предсказаний\u001b[39;00m\n\u001b[0;32m     11\u001b[0m predictions \u001b[38;5;241m=\u001b[39m model\u001b[38;5;241m.\u001b[39mpredict(X_test_big)\n",
      "File \u001b[1;32mc:\\Users\\Sargeras\\AppData\\Local\\Programs\\Python\\Python312\\Lib\\site-packages\\pandas\\core\\frame.py:5581\u001b[0m, in \u001b[0;36mDataFrame.drop\u001b[1;34m(self, labels, axis, index, columns, level, inplace, errors)\u001b[0m\n\u001b[0;32m   5433\u001b[0m \u001b[38;5;28;01mdef\u001b[39;00m \u001b[38;5;21mdrop\u001b[39m(\n\u001b[0;32m   5434\u001b[0m     \u001b[38;5;28mself\u001b[39m,\n\u001b[0;32m   5435\u001b[0m     labels: IndexLabel \u001b[38;5;241m|\u001b[39m \u001b[38;5;28;01mNone\u001b[39;00m \u001b[38;5;241m=\u001b[39m \u001b[38;5;28;01mNone\u001b[39;00m,\n\u001b[1;32m   (...)\u001b[0m\n\u001b[0;32m   5442\u001b[0m     errors: IgnoreRaise \u001b[38;5;241m=\u001b[39m \u001b[38;5;124m\"\u001b[39m\u001b[38;5;124mraise\u001b[39m\u001b[38;5;124m\"\u001b[39m,\n\u001b[0;32m   5443\u001b[0m ) \u001b[38;5;241m-\u001b[39m\u001b[38;5;241m>\u001b[39m DataFrame \u001b[38;5;241m|\u001b[39m \u001b[38;5;28;01mNone\u001b[39;00m:\n\u001b[0;32m   5444\u001b[0m \u001b[38;5;250m    \u001b[39m\u001b[38;5;124;03m\"\"\"\u001b[39;00m\n\u001b[0;32m   5445\u001b[0m \u001b[38;5;124;03m    Drop specified labels from rows or columns.\u001b[39;00m\n\u001b[0;32m   5446\u001b[0m \n\u001b[1;32m   (...)\u001b[0m\n\u001b[0;32m   5579\u001b[0m \u001b[38;5;124;03m            weight  1.0     0.8\u001b[39;00m\n\u001b[0;32m   5580\u001b[0m \u001b[38;5;124;03m    \"\"\"\u001b[39;00m\n\u001b[1;32m-> 5581\u001b[0m     \u001b[38;5;28;01mreturn\u001b[39;00m \u001b[38;5;28;43msuper\u001b[39;49m\u001b[43m(\u001b[49m\u001b[43m)\u001b[49m\u001b[38;5;241;43m.\u001b[39;49m\u001b[43mdrop\u001b[49m\u001b[43m(\u001b[49m\n\u001b[0;32m   5582\u001b[0m \u001b[43m        \u001b[49m\u001b[43mlabels\u001b[49m\u001b[38;5;241;43m=\u001b[39;49m\u001b[43mlabels\u001b[49m\u001b[43m,\u001b[49m\n\u001b[0;32m   5583\u001b[0m \u001b[43m        \u001b[49m\u001b[43maxis\u001b[49m\u001b[38;5;241;43m=\u001b[39;49m\u001b[43maxis\u001b[49m\u001b[43m,\u001b[49m\n\u001b[0;32m   5584\u001b[0m \u001b[43m        \u001b[49m\u001b[43mindex\u001b[49m\u001b[38;5;241;43m=\u001b[39;49m\u001b[43mindex\u001b[49m\u001b[43m,\u001b[49m\n\u001b[0;32m   5585\u001b[0m \u001b[43m        \u001b[49m\u001b[43mcolumns\u001b[49m\u001b[38;5;241;43m=\u001b[39;49m\u001b[43mcolumns\u001b[49m\u001b[43m,\u001b[49m\n\u001b[0;32m   5586\u001b[0m \u001b[43m        \u001b[49m\u001b[43mlevel\u001b[49m\u001b[38;5;241;43m=\u001b[39;49m\u001b[43mlevel\u001b[49m\u001b[43m,\u001b[49m\n\u001b[0;32m   5587\u001b[0m \u001b[43m        \u001b[49m\u001b[43minplace\u001b[49m\u001b[38;5;241;43m=\u001b[39;49m\u001b[43minplace\u001b[49m\u001b[43m,\u001b[49m\n\u001b[0;32m   5588\u001b[0m \u001b[43m        \u001b[49m\u001b[43merrors\u001b[49m\u001b[38;5;241;43m=\u001b[39;49m\u001b[43merrors\u001b[49m\u001b[43m,\u001b[49m\n\u001b[0;32m   5589\u001b[0m \u001b[43m    \u001b[49m\u001b[43m)\u001b[49m\n",
      "File \u001b[1;32mc:\\Users\\Sargeras\\AppData\\Local\\Programs\\Python\\Python312\\Lib\\site-packages\\pandas\\core\\generic.py:4788\u001b[0m, in \u001b[0;36mNDFrame.drop\u001b[1;34m(self, labels, axis, index, columns, level, inplace, errors)\u001b[0m\n\u001b[0;32m   4786\u001b[0m \u001b[38;5;28;01mfor\u001b[39;00m axis, labels \u001b[38;5;129;01min\u001b[39;00m axes\u001b[38;5;241m.\u001b[39mitems():\n\u001b[0;32m   4787\u001b[0m     \u001b[38;5;28;01mif\u001b[39;00m labels \u001b[38;5;129;01mis\u001b[39;00m \u001b[38;5;129;01mnot\u001b[39;00m \u001b[38;5;28;01mNone\u001b[39;00m:\n\u001b[1;32m-> 4788\u001b[0m         obj \u001b[38;5;241m=\u001b[39m \u001b[43mobj\u001b[49m\u001b[38;5;241;43m.\u001b[39;49m\u001b[43m_drop_axis\u001b[49m\u001b[43m(\u001b[49m\u001b[43mlabels\u001b[49m\u001b[43m,\u001b[49m\u001b[43m \u001b[49m\u001b[43maxis\u001b[49m\u001b[43m,\u001b[49m\u001b[43m \u001b[49m\u001b[43mlevel\u001b[49m\u001b[38;5;241;43m=\u001b[39;49m\u001b[43mlevel\u001b[49m\u001b[43m,\u001b[49m\u001b[43m \u001b[49m\u001b[43merrors\u001b[49m\u001b[38;5;241;43m=\u001b[39;49m\u001b[43merrors\u001b[49m\u001b[43m)\u001b[49m\n\u001b[0;32m   4790\u001b[0m \u001b[38;5;28;01mif\u001b[39;00m inplace:\n\u001b[0;32m   4791\u001b[0m     \u001b[38;5;28mself\u001b[39m\u001b[38;5;241m.\u001b[39m_update_inplace(obj)\n",
      "File \u001b[1;32mc:\\Users\\Sargeras\\AppData\\Local\\Programs\\Python\\Python312\\Lib\\site-packages\\pandas\\core\\generic.py:4830\u001b[0m, in \u001b[0;36mNDFrame._drop_axis\u001b[1;34m(self, labels, axis, level, errors, only_slice)\u001b[0m\n\u001b[0;32m   4828\u001b[0m         new_axis \u001b[38;5;241m=\u001b[39m axis\u001b[38;5;241m.\u001b[39mdrop(labels, level\u001b[38;5;241m=\u001b[39mlevel, errors\u001b[38;5;241m=\u001b[39merrors)\n\u001b[0;32m   4829\u001b[0m     \u001b[38;5;28;01melse\u001b[39;00m:\n\u001b[1;32m-> 4830\u001b[0m         new_axis \u001b[38;5;241m=\u001b[39m \u001b[43maxis\u001b[49m\u001b[38;5;241;43m.\u001b[39;49m\u001b[43mdrop\u001b[49m\u001b[43m(\u001b[49m\u001b[43mlabels\u001b[49m\u001b[43m,\u001b[49m\u001b[43m \u001b[49m\u001b[43merrors\u001b[49m\u001b[38;5;241;43m=\u001b[39;49m\u001b[43merrors\u001b[49m\u001b[43m)\u001b[49m\n\u001b[0;32m   4831\u001b[0m     indexer \u001b[38;5;241m=\u001b[39m axis\u001b[38;5;241m.\u001b[39mget_indexer(new_axis)\n\u001b[0;32m   4833\u001b[0m \u001b[38;5;66;03m# Case for non-unique axis\u001b[39;00m\n\u001b[0;32m   4834\u001b[0m \u001b[38;5;28;01melse\u001b[39;00m:\n",
      "File \u001b[1;32mc:\\Users\\Sargeras\\AppData\\Local\\Programs\\Python\\Python312\\Lib\\site-packages\\pandas\\core\\indexes\\base.py:7070\u001b[0m, in \u001b[0;36mIndex.drop\u001b[1;34m(self, labels, errors)\u001b[0m\n\u001b[0;32m   7068\u001b[0m \u001b[38;5;28;01mif\u001b[39;00m mask\u001b[38;5;241m.\u001b[39many():\n\u001b[0;32m   7069\u001b[0m     \u001b[38;5;28;01mif\u001b[39;00m errors \u001b[38;5;241m!=\u001b[39m \u001b[38;5;124m\"\u001b[39m\u001b[38;5;124mignore\u001b[39m\u001b[38;5;124m\"\u001b[39m:\n\u001b[1;32m-> 7070\u001b[0m         \u001b[38;5;28;01mraise\u001b[39;00m \u001b[38;5;167;01mKeyError\u001b[39;00m(\u001b[38;5;124mf\u001b[39m\u001b[38;5;124m\"\u001b[39m\u001b[38;5;132;01m{\u001b[39;00mlabels[mask]\u001b[38;5;241m.\u001b[39mtolist()\u001b[38;5;132;01m}\u001b[39;00m\u001b[38;5;124m not found in axis\u001b[39m\u001b[38;5;124m\"\u001b[39m)\n\u001b[0;32m   7071\u001b[0m     indexer \u001b[38;5;241m=\u001b[39m indexer[\u001b[38;5;241m~\u001b[39mmask]\n\u001b[0;32m   7072\u001b[0m \u001b[38;5;28;01mreturn\u001b[39;00m \u001b[38;5;28mself\u001b[39m\u001b[38;5;241m.\u001b[39mdelete(indexer)\n",
      "\u001b[1;31mKeyError\u001b[0m: \"['alert'] not found in axis\""
     ]
    }
   ],
   "source": [
    "for i in range(chunk_size - 1):\n",
    "    print(i)\n",
    "    # Извлечение текущей порции данных\n",
    "    df_chunk = df.iloc[i*chunk_size:(i+1)*chunk_size]\n",
    "    #df_chunk = pd.read_csv(f'../ASA-Data/cleaned_dataset_chunk{i}.csv')\n",
    "\n",
    "    # Формирование тестовой выборки (без alert)\n",
    "    X_test_big = df_chunk.drop(columns=[target_col])\n",
    "\n",
    "    # Прогон через обученную модель для получения предсказаний\n",
    "    predictions = model.predict(X_test_big)\n",
    "\n",
    "    # Сохранение результатов предсказаний и истинных меток\n",
    "    y_true_big.extend(df_chunk[target_col].values)\n",
    "    y_pred_big.extend(predictions)"
   ]
  },
  {
   "cell_type": "code",
   "execution_count": 89,
   "metadata": {},
   "outputs": [],
   "source": [
    "y_pred_big = (np.array(y_pred_big) > 0.5).astype(\"int32\")"
   ]
  },
  {
   "cell_type": "code",
   "execution_count": 90,
   "metadata": {},
   "outputs": [],
   "source": [
    "big_conf_matrix = confusion_matrix(y_true_big, y_pred_big)"
   ]
  },
  {
   "cell_type": "code",
   "execution_count": 91,
   "metadata": {},
   "outputs": [
    {
     "data": {
      "image/png": "[encoded data removed]",
      "text/plain": [
       "<Figure size 1000x700 with 2 Axes>"
      ]
     },
     "metadata": {},
     "output_type": "display_data"
    }
   ],
   "source": [
    "# Визуализация матрицы ошибок в виде тепловой карты\n",
    "plt.figure(figsize=(10, 7))\n",
    "sns.heatmap(big_conf_matrix, annot=True, fmt='d', cmap='coolwarm', xticklabels=['Обычный', 'Подозрительный'], yticklabels=['Обычный', 'Подозрительный'])\n",
    "plt.xlabel('Предсказанный класс')\n",
    "plt.ylabel('Ожидаемый класс')\n",
    "plt.title('Матрица ошибок')\n",
    "plt.show()"
   ]
  },
  {
   "cell_type": "code",
   "execution_count": null,
   "metadata": {},
   "outputs": [],
   "source": [
    "from sklearn.metrics import accuracy_score, precision_score, recall_score, f1_score\n",
    "\n",
    "# Вычисление TP, FP, TN, FN\n",
    "TP = sum((np.array(y_true_big[i]) == 1) and (np.array(y_pred_big[i]) == 1) for i in range(len(y_true_big)))\n",
    "FP = sum((np.array(y_true_big[i]) == 0) and (np.array(y_pred_big[i]) == 1) for i in range(len(y_true_big)))\n",
    "TN = sum((np.array(y_true_big[i]) == 0) and (np.array(y_pred_big[i]) == 0) for i in range(len(y_true_big)))\n",
    "FN = sum((np.array(y_true_big[i]) == 1) and (np.array(y_pred_big[i]) == 0) for i in range(len(y_true_big)))\n",
    "\n",
    "# Вывод статистики\n",
    "print(\"Количество правильно предсказанных трафиков (TP):\", TP)\n",
    "print(\"Количество неправильно предсказанных трафиков (FP):\", FP)\n",
    "print(\"Количество правильно не предсказанных трафиков (TN):\", TN)\n",
    "print(\"Количество неправильно не предсказанных трафиков (FN):\", FN)\n",
    "\n",
    "# Вычисление общей точности предсказаний\n",
    "accuracy = accuracy_score(y_true_big, y_pred_big)\n",
    "print(\"Общая точность предсказаний:\", accuracy)\n",
    "\n",
    "# Вычисление точности (precision), полноты (recall) и F1-меры\n",
    "precision = precision_score(y_true_big, y_pred_big)\n",
    "recall = recall_score(y_true_big, y_pred_big)\n",
    "f1 = f1_score(y_true_big, y_pred_big)\n",
    "\n",
    "print(\"Точность (precision):\", precision)\n",
    "print(\"Полнота (recall):\", recall)\n",
    "print(\"F1-мера:\", f1)"
   ]
  },
  {
   "cell_type": "code",
   "execution_count": null,
   "metadata": {},
   "outputs": [],
   "source": [
    "# Сравнение значений и вывод результата\n",
    "if FP > FN:\n",
    "    print(\"Модель склонна маркировать обычный трафик как подозрительный (1 вместо 0)\")\n",
    "elif FN > FP:\n",
    "    print(\"Модель склонна маркировать подозрительный трафик как обычный (0 вместо 1)\")\n",
    "else:\n",
    "    print(\"Модель делает ошибки в предсказаниях сбалансированно\")"
   ]
  }
 ],
 "metadata": {
  "kernelspec": {
   "display_name": "Python 3",
   "language": "python",
   "name": "python3"
  },
  "language_info": {
   "codemirror_mode": {
    "name": "ipython",
    "version": 3
   },
   "file_extension": ".py",
   "mimetype": "text/x-python",
   "name": "python",
   "nbconvert_exporter": "python",
   "pygments_lexer": "ipython3",
   "version": "3.12.1"
  }
 },
 "nbformat": 4,
 "nbformat_minor": 2
}
